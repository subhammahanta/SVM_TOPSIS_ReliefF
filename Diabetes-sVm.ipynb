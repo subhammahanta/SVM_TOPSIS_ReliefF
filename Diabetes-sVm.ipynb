{
 "cells": [
  {
   "cell_type": "code",
   "execution_count": 2,
   "id": "e4d92bfe",
   "metadata": {},
   "outputs": [],
   "source": [
    "         import numpy as np\n",
    "         import pandas as pd\n",
    "         import matplotlib.pyplot as plt\n",
    "         import seaborn as sns\n",
    "        #importing libraries"
   ]
  },
  {
   "cell_type": "code",
   "execution_count": 3,
   "id": "be350c45",
   "metadata": {},
   "outputs": [],
   "source": [
    "       df=pd.read_csv('diabetes.csv')\n",
    "       #Loading pima indians diabetes dataset"
   ]
  },
  {
   "cell_type": "markdown",
   "id": "43118043",
   "metadata": {},
   "source": [
    "Step 3:Exploratory Data Analysis"
   ]
  },
  {
   "cell_type": "code",
   "execution_count": 4,
   "id": "3977fbb9",
   "metadata": {},
   "outputs": [
    {
     "data": {
      "text/html": [
       "<div>\n",
       "<style scoped>\n",
       "    .dataframe tbody tr th:only-of-type {\n",
       "        vertical-align: middle;\n",
       "    }\n",
       "\n",
       "    .dataframe tbody tr th {\n",
       "        vertical-align: top;\n",
       "    }\n",
       "\n",
       "    .dataframe thead th {\n",
       "        text-align: right;\n",
       "    }\n",
       "</style>\n",
       "<table border=\"1\" class=\"dataframe\">\n",
       "  <thead>\n",
       "    <tr style=\"text-align: right;\">\n",
       "      <th></th>\n",
       "      <th>Pregnancies</th>\n",
       "      <th>Glucose</th>\n",
       "      <th>BloodPressure</th>\n",
       "      <th>SkinThickness</th>\n",
       "      <th>Insulin</th>\n",
       "      <th>BMI</th>\n",
       "      <th>DiabetesPedigreeFunction</th>\n",
       "      <th>Age</th>\n",
       "      <th>Outcome</th>\n",
       "    </tr>\n",
       "  </thead>\n",
       "  <tbody>\n",
       "    <tr>\n",
       "      <th>0</th>\n",
       "      <td>6</td>\n",
       "      <td>148</td>\n",
       "      <td>72</td>\n",
       "      <td>35</td>\n",
       "      <td>0</td>\n",
       "      <td>33.6</td>\n",
       "      <td>0.627</td>\n",
       "      <td>50</td>\n",
       "      <td>1</td>\n",
       "    </tr>\n",
       "    <tr>\n",
       "      <th>1</th>\n",
       "      <td>1</td>\n",
       "      <td>85</td>\n",
       "      <td>66</td>\n",
       "      <td>29</td>\n",
       "      <td>0</td>\n",
       "      <td>26.6</td>\n",
       "      <td>0.351</td>\n",
       "      <td>31</td>\n",
       "      <td>0</td>\n",
       "    </tr>\n",
       "    <tr>\n",
       "      <th>2</th>\n",
       "      <td>8</td>\n",
       "      <td>183</td>\n",
       "      <td>64</td>\n",
       "      <td>0</td>\n",
       "      <td>0</td>\n",
       "      <td>23.3</td>\n",
       "      <td>0.672</td>\n",
       "      <td>32</td>\n",
       "      <td>1</td>\n",
       "    </tr>\n",
       "    <tr>\n",
       "      <th>3</th>\n",
       "      <td>1</td>\n",
       "      <td>89</td>\n",
       "      <td>66</td>\n",
       "      <td>23</td>\n",
       "      <td>94</td>\n",
       "      <td>28.1</td>\n",
       "      <td>0.167</td>\n",
       "      <td>21</td>\n",
       "      <td>0</td>\n",
       "    </tr>\n",
       "    <tr>\n",
       "      <th>4</th>\n",
       "      <td>0</td>\n",
       "      <td>137</td>\n",
       "      <td>40</td>\n",
       "      <td>35</td>\n",
       "      <td>168</td>\n",
       "      <td>43.1</td>\n",
       "      <td>2.288</td>\n",
       "      <td>33</td>\n",
       "      <td>1</td>\n",
       "    </tr>\n",
       "  </tbody>\n",
       "</table>\n",
       "</div>"
      ],
      "text/plain": [
       "   Pregnancies  Glucose  BloodPressure  SkinThickness  Insulin   BMI  \\\n",
       "0            6      148             72             35        0  33.6   \n",
       "1            1       85             66             29        0  26.6   \n",
       "2            8      183             64              0        0  23.3   \n",
       "3            1       89             66             23       94  28.1   \n",
       "4            0      137             40             35      168  43.1   \n",
       "\n",
       "   DiabetesPedigreeFunction  Age  Outcome  \n",
       "0                     0.627   50        1  \n",
       "1                     0.351   31        0  \n",
       "2                     0.672   32        1  \n",
       "3                     0.167   21        0  \n",
       "4                     2.288   33        1  "
      ]
     },
     "execution_count": 4,
     "metadata": {},
     "output_type": "execute_result"
    }
   ],
   "source": [
    "df.head()"
   ]
  },
  {
   "cell_type": "code",
   "execution_count": 5,
   "id": "0bf51707",
   "metadata": {},
   "outputs": [
    {
     "data": {
      "text/html": [
       "<div>\n",
       "<style scoped>\n",
       "    .dataframe tbody tr th:only-of-type {\n",
       "        vertical-align: middle;\n",
       "    }\n",
       "\n",
       "    .dataframe tbody tr th {\n",
       "        vertical-align: top;\n",
       "    }\n",
       "\n",
       "    .dataframe thead th {\n",
       "        text-align: right;\n",
       "    }\n",
       "</style>\n",
       "<table border=\"1\" class=\"dataframe\">\n",
       "  <thead>\n",
       "    <tr style=\"text-align: right;\">\n",
       "      <th></th>\n",
       "      <th>Pregnancies</th>\n",
       "      <th>Glucose</th>\n",
       "      <th>BloodPressure</th>\n",
       "      <th>SkinThickness</th>\n",
       "      <th>Insulin</th>\n",
       "      <th>BMI</th>\n",
       "      <th>DiabetesPedigreeFunction</th>\n",
       "      <th>Age</th>\n",
       "      <th>Outcome</th>\n",
       "    </tr>\n",
       "  </thead>\n",
       "  <tbody>\n",
       "    <tr>\n",
       "      <th>763</th>\n",
       "      <td>10</td>\n",
       "      <td>101</td>\n",
       "      <td>76</td>\n",
       "      <td>48</td>\n",
       "      <td>180</td>\n",
       "      <td>32.9</td>\n",
       "      <td>0.171</td>\n",
       "      <td>63</td>\n",
       "      <td>0</td>\n",
       "    </tr>\n",
       "    <tr>\n",
       "      <th>764</th>\n",
       "      <td>2</td>\n",
       "      <td>122</td>\n",
       "      <td>70</td>\n",
       "      <td>27</td>\n",
       "      <td>0</td>\n",
       "      <td>36.8</td>\n",
       "      <td>0.340</td>\n",
       "      <td>27</td>\n",
       "      <td>0</td>\n",
       "    </tr>\n",
       "    <tr>\n",
       "      <th>765</th>\n",
       "      <td>5</td>\n",
       "      <td>121</td>\n",
       "      <td>72</td>\n",
       "      <td>23</td>\n",
       "      <td>112</td>\n",
       "      <td>26.2</td>\n",
       "      <td>0.245</td>\n",
       "      <td>30</td>\n",
       "      <td>0</td>\n",
       "    </tr>\n",
       "    <tr>\n",
       "      <th>766</th>\n",
       "      <td>1</td>\n",
       "      <td>126</td>\n",
       "      <td>60</td>\n",
       "      <td>0</td>\n",
       "      <td>0</td>\n",
       "      <td>30.1</td>\n",
       "      <td>0.349</td>\n",
       "      <td>47</td>\n",
       "      <td>1</td>\n",
       "    </tr>\n",
       "    <tr>\n",
       "      <th>767</th>\n",
       "      <td>1</td>\n",
       "      <td>93</td>\n",
       "      <td>70</td>\n",
       "      <td>31</td>\n",
       "      <td>0</td>\n",
       "      <td>30.4</td>\n",
       "      <td>0.315</td>\n",
       "      <td>23</td>\n",
       "      <td>0</td>\n",
       "    </tr>\n",
       "  </tbody>\n",
       "</table>\n",
       "</div>"
      ],
      "text/plain": [
       "     Pregnancies  Glucose  BloodPressure  SkinThickness  Insulin   BMI  \\\n",
       "763           10      101             76             48      180  32.9   \n",
       "764            2      122             70             27        0  36.8   \n",
       "765            5      121             72             23      112  26.2   \n",
       "766            1      126             60              0        0  30.1   \n",
       "767            1       93             70             31        0  30.4   \n",
       "\n",
       "     DiabetesPedigreeFunction  Age  Outcome  \n",
       "763                     0.171   63        0  \n",
       "764                     0.340   27        0  \n",
       "765                     0.245   30        0  \n",
       "766                     0.349   47        1  \n",
       "767                     0.315   23        0  "
      ]
     },
     "execution_count": 5,
     "metadata": {},
     "output_type": "execute_result"
    }
   ],
   "source": [
    "df.tail()"
   ]
  },
  {
   "cell_type": "code",
   "execution_count": 6,
   "id": "f93123c6",
   "metadata": {},
   "outputs": [
    {
     "data": {
      "text/html": [
       "<div>\n",
       "<style scoped>\n",
       "    .dataframe tbody tr th:only-of-type {\n",
       "        vertical-align: middle;\n",
       "    }\n",
       "\n",
       "    .dataframe tbody tr th {\n",
       "        vertical-align: top;\n",
       "    }\n",
       "\n",
       "    .dataframe thead th {\n",
       "        text-align: right;\n",
       "    }\n",
       "</style>\n",
       "<table border=\"1\" class=\"dataframe\">\n",
       "  <thead>\n",
       "    <tr style=\"text-align: right;\">\n",
       "      <th></th>\n",
       "      <th>Pregnancies</th>\n",
       "      <th>Glucose</th>\n",
       "      <th>BloodPressure</th>\n",
       "      <th>SkinThickness</th>\n",
       "      <th>Insulin</th>\n",
       "      <th>BMI</th>\n",
       "      <th>DiabetesPedigreeFunction</th>\n",
       "      <th>Age</th>\n",
       "      <th>Outcome</th>\n",
       "    </tr>\n",
       "  </thead>\n",
       "  <tbody>\n",
       "    <tr>\n",
       "      <th>643</th>\n",
       "      <td>4</td>\n",
       "      <td>90</td>\n",
       "      <td>0</td>\n",
       "      <td>0</td>\n",
       "      <td>0</td>\n",
       "      <td>28.0</td>\n",
       "      <td>0.610</td>\n",
       "      <td>31</td>\n",
       "      <td>0</td>\n",
       "    </tr>\n",
       "    <tr>\n",
       "      <th>705</th>\n",
       "      <td>6</td>\n",
       "      <td>80</td>\n",
       "      <td>80</td>\n",
       "      <td>36</td>\n",
       "      <td>0</td>\n",
       "      <td>39.8</td>\n",
       "      <td>0.177</td>\n",
       "      <td>28</td>\n",
       "      <td>0</td>\n",
       "    </tr>\n",
       "    <tr>\n",
       "      <th>501</th>\n",
       "      <td>3</td>\n",
       "      <td>84</td>\n",
       "      <td>72</td>\n",
       "      <td>32</td>\n",
       "      <td>0</td>\n",
       "      <td>37.2</td>\n",
       "      <td>0.267</td>\n",
       "      <td>28</td>\n",
       "      <td>0</td>\n",
       "    </tr>\n",
       "    <tr>\n",
       "      <th>578</th>\n",
       "      <td>10</td>\n",
       "      <td>133</td>\n",
       "      <td>68</td>\n",
       "      <td>0</td>\n",
       "      <td>0</td>\n",
       "      <td>27.0</td>\n",
       "      <td>0.245</td>\n",
       "      <td>36</td>\n",
       "      <td>0</td>\n",
       "    </tr>\n",
       "    <tr>\n",
       "      <th>120</th>\n",
       "      <td>0</td>\n",
       "      <td>162</td>\n",
       "      <td>76</td>\n",
       "      <td>56</td>\n",
       "      <td>100</td>\n",
       "      <td>53.2</td>\n",
       "      <td>0.759</td>\n",
       "      <td>25</td>\n",
       "      <td>1</td>\n",
       "    </tr>\n",
       "    <tr>\n",
       "      <th>538</th>\n",
       "      <td>0</td>\n",
       "      <td>127</td>\n",
       "      <td>80</td>\n",
       "      <td>37</td>\n",
       "      <td>210</td>\n",
       "      <td>36.3</td>\n",
       "      <td>0.804</td>\n",
       "      <td>23</td>\n",
       "      <td>0</td>\n",
       "    </tr>\n",
       "    <tr>\n",
       "      <th>39</th>\n",
       "      <td>4</td>\n",
       "      <td>111</td>\n",
       "      <td>72</td>\n",
       "      <td>47</td>\n",
       "      <td>207</td>\n",
       "      <td>37.1</td>\n",
       "      <td>1.390</td>\n",
       "      <td>56</td>\n",
       "      <td>1</td>\n",
       "    </tr>\n",
       "    <tr>\n",
       "      <th>297</th>\n",
       "      <td>0</td>\n",
       "      <td>126</td>\n",
       "      <td>84</td>\n",
       "      <td>29</td>\n",
       "      <td>215</td>\n",
       "      <td>30.7</td>\n",
       "      <td>0.520</td>\n",
       "      <td>24</td>\n",
       "      <td>0</td>\n",
       "    </tr>\n",
       "    <tr>\n",
       "      <th>41</th>\n",
       "      <td>7</td>\n",
       "      <td>133</td>\n",
       "      <td>84</td>\n",
       "      <td>0</td>\n",
       "      <td>0</td>\n",
       "      <td>40.2</td>\n",
       "      <td>0.696</td>\n",
       "      <td>37</td>\n",
       "      <td>0</td>\n",
       "    </tr>\n",
       "    <tr>\n",
       "      <th>284</th>\n",
       "      <td>2</td>\n",
       "      <td>108</td>\n",
       "      <td>80</td>\n",
       "      <td>0</td>\n",
       "      <td>0</td>\n",
       "      <td>27.0</td>\n",
       "      <td>0.259</td>\n",
       "      <td>52</td>\n",
       "      <td>1</td>\n",
       "    </tr>\n",
       "  </tbody>\n",
       "</table>\n",
       "</div>"
      ],
      "text/plain": [
       "     Pregnancies  Glucose  BloodPressure  SkinThickness  Insulin   BMI  \\\n",
       "643            4       90              0              0        0  28.0   \n",
       "705            6       80             80             36        0  39.8   \n",
       "501            3       84             72             32        0  37.2   \n",
       "578           10      133             68              0        0  27.0   \n",
       "120            0      162             76             56      100  53.2   \n",
       "538            0      127             80             37      210  36.3   \n",
       "39             4      111             72             47      207  37.1   \n",
       "297            0      126             84             29      215  30.7   \n",
       "41             7      133             84              0        0  40.2   \n",
       "284            2      108             80              0        0  27.0   \n",
       "\n",
       "     DiabetesPedigreeFunction  Age  Outcome  \n",
       "643                     0.610   31        0  \n",
       "705                     0.177   28        0  \n",
       "501                     0.267   28        0  \n",
       "578                     0.245   36        0  \n",
       "120                     0.759   25        1  \n",
       "538                     0.804   23        0  \n",
       "39                      1.390   56        1  \n",
       "297                     0.520   24        0  \n",
       "41                      0.696   37        0  \n",
       "284                     0.259   52        1  "
      ]
     },
     "execution_count": 6,
     "metadata": {},
     "output_type": "execute_result"
    }
   ],
   "source": [
    "df.sample(10)"
   ]
  },
  {
   "cell_type": "code",
   "execution_count": 7,
   "id": "0e8a416d",
   "metadata": {},
   "outputs": [
    {
     "data": {
      "text/plain": [
       "(768, 9)"
      ]
     },
     "execution_count": 7,
     "metadata": {},
     "output_type": "execute_result"
    }
   ],
   "source": [
    "df.shape"
   ]
  },
  {
   "cell_type": "code",
   "execution_count": 8,
   "id": "e175632b",
   "metadata": {},
   "outputs": [
    {
     "data": {
      "text/plain": [
       "Pregnancies                   int64\n",
       "Glucose                       int64\n",
       "BloodPressure                 int64\n",
       "SkinThickness                 int64\n",
       "Insulin                       int64\n",
       "BMI                         float64\n",
       "DiabetesPedigreeFunction    float64\n",
       "Age                           int64\n",
       "Outcome                       int64\n",
       "dtype: object"
      ]
     },
     "execution_count": 8,
     "metadata": {},
     "output_type": "execute_result"
    }
   ],
   "source": [
    "df.dtypes"
   ]
  },
  {
   "cell_type": "code",
   "execution_count": 9,
   "id": "b142941e",
   "metadata": {},
   "outputs": [
    {
     "name": "stdout",
     "output_type": "stream",
     "text": [
      "<class 'pandas.core.frame.DataFrame'>\n",
      "RangeIndex: 768 entries, 0 to 767\n",
      "Data columns (total 9 columns):\n",
      " #   Column                    Non-Null Count  Dtype  \n",
      "---  ------                    --------------  -----  \n",
      " 0   Pregnancies               768 non-null    int64  \n",
      " 1   Glucose                   768 non-null    int64  \n",
      " 2   BloodPressure             768 non-null    int64  \n",
      " 3   SkinThickness             768 non-null    int64  \n",
      " 4   Insulin                   768 non-null    int64  \n",
      " 5   BMI                       768 non-null    float64\n",
      " 6   DiabetesPedigreeFunction  768 non-null    float64\n",
      " 7   Age                       768 non-null    int64  \n",
      " 8   Outcome                   768 non-null    int64  \n",
      "dtypes: float64(2), int64(7)\n",
      "memory usage: 54.1 KB\n"
     ]
    }
   ],
   "source": [
    "#finding out if the dataset contains any null values\n",
    "df.info()"
   ]
  },
  {
   "cell_type": "markdown",
   "id": "6671c19d",
   "metadata": {},
   "source": [
    "## Summary of the data set"
   ]
  },
  {
   "cell_type": "code",
   "execution_count": 10,
   "id": "692629e8",
   "metadata": {},
   "outputs": [
    {
     "data": {
      "text/html": [
       "<div>\n",
       "<style scoped>\n",
       "    .dataframe tbody tr th:only-of-type {\n",
       "        vertical-align: middle;\n",
       "    }\n",
       "\n",
       "    .dataframe tbody tr th {\n",
       "        vertical-align: top;\n",
       "    }\n",
       "\n",
       "    .dataframe thead th {\n",
       "        text-align: right;\n",
       "    }\n",
       "</style>\n",
       "<table border=\"1\" class=\"dataframe\">\n",
       "  <thead>\n",
       "    <tr style=\"text-align: right;\">\n",
       "      <th></th>\n",
       "      <th>Pregnancies</th>\n",
       "      <th>Glucose</th>\n",
       "      <th>BloodPressure</th>\n",
       "      <th>SkinThickness</th>\n",
       "      <th>Insulin</th>\n",
       "      <th>BMI</th>\n",
       "      <th>DiabetesPedigreeFunction</th>\n",
       "      <th>Age</th>\n",
       "      <th>Outcome</th>\n",
       "    </tr>\n",
       "  </thead>\n",
       "  <tbody>\n",
       "    <tr>\n",
       "      <th>count</th>\n",
       "      <td>768.000000</td>\n",
       "      <td>768.000000</td>\n",
       "      <td>768.000000</td>\n",
       "      <td>768.000000</td>\n",
       "      <td>768.000000</td>\n",
       "      <td>768.000000</td>\n",
       "      <td>768.000000</td>\n",
       "      <td>768.000000</td>\n",
       "      <td>768.000000</td>\n",
       "    </tr>\n",
       "    <tr>\n",
       "      <th>mean</th>\n",
       "      <td>3.845052</td>\n",
       "      <td>120.894531</td>\n",
       "      <td>69.105469</td>\n",
       "      <td>20.536458</td>\n",
       "      <td>79.799479</td>\n",
       "      <td>31.992578</td>\n",
       "      <td>0.471876</td>\n",
       "      <td>33.240885</td>\n",
       "      <td>0.348958</td>\n",
       "    </tr>\n",
       "    <tr>\n",
       "      <th>std</th>\n",
       "      <td>3.369578</td>\n",
       "      <td>31.972618</td>\n",
       "      <td>19.355807</td>\n",
       "      <td>15.952218</td>\n",
       "      <td>115.244002</td>\n",
       "      <td>7.884160</td>\n",
       "      <td>0.331329</td>\n",
       "      <td>11.760232</td>\n",
       "      <td>0.476951</td>\n",
       "    </tr>\n",
       "    <tr>\n",
       "      <th>min</th>\n",
       "      <td>0.000000</td>\n",
       "      <td>0.000000</td>\n",
       "      <td>0.000000</td>\n",
       "      <td>0.000000</td>\n",
       "      <td>0.000000</td>\n",
       "      <td>0.000000</td>\n",
       "      <td>0.078000</td>\n",
       "      <td>21.000000</td>\n",
       "      <td>0.000000</td>\n",
       "    </tr>\n",
       "    <tr>\n",
       "      <th>25%</th>\n",
       "      <td>1.000000</td>\n",
       "      <td>99.000000</td>\n",
       "      <td>62.000000</td>\n",
       "      <td>0.000000</td>\n",
       "      <td>0.000000</td>\n",
       "      <td>27.300000</td>\n",
       "      <td>0.243750</td>\n",
       "      <td>24.000000</td>\n",
       "      <td>0.000000</td>\n",
       "    </tr>\n",
       "    <tr>\n",
       "      <th>50%</th>\n",
       "      <td>3.000000</td>\n",
       "      <td>117.000000</td>\n",
       "      <td>72.000000</td>\n",
       "      <td>23.000000</td>\n",
       "      <td>30.500000</td>\n",
       "      <td>32.000000</td>\n",
       "      <td>0.372500</td>\n",
       "      <td>29.000000</td>\n",
       "      <td>0.000000</td>\n",
       "    </tr>\n",
       "    <tr>\n",
       "      <th>75%</th>\n",
       "      <td>6.000000</td>\n",
       "      <td>140.250000</td>\n",
       "      <td>80.000000</td>\n",
       "      <td>32.000000</td>\n",
       "      <td>127.250000</td>\n",
       "      <td>36.600000</td>\n",
       "      <td>0.626250</td>\n",
       "      <td>41.000000</td>\n",
       "      <td>1.000000</td>\n",
       "    </tr>\n",
       "    <tr>\n",
       "      <th>max</th>\n",
       "      <td>17.000000</td>\n",
       "      <td>199.000000</td>\n",
       "      <td>122.000000</td>\n",
       "      <td>99.000000</td>\n",
       "      <td>846.000000</td>\n",
       "      <td>67.100000</td>\n",
       "      <td>2.420000</td>\n",
       "      <td>81.000000</td>\n",
       "      <td>1.000000</td>\n",
       "    </tr>\n",
       "  </tbody>\n",
       "</table>\n",
       "</div>"
      ],
      "text/plain": [
       "       Pregnancies     Glucose  BloodPressure  SkinThickness     Insulin  \\\n",
       "count   768.000000  768.000000     768.000000     768.000000  768.000000   \n",
       "mean      3.845052  120.894531      69.105469      20.536458   79.799479   \n",
       "std       3.369578   31.972618      19.355807      15.952218  115.244002   \n",
       "min       0.000000    0.000000       0.000000       0.000000    0.000000   \n",
       "25%       1.000000   99.000000      62.000000       0.000000    0.000000   \n",
       "50%       3.000000  117.000000      72.000000      23.000000   30.500000   \n",
       "75%       6.000000  140.250000      80.000000      32.000000  127.250000   \n",
       "max      17.000000  199.000000     122.000000      99.000000  846.000000   \n",
       "\n",
       "              BMI  DiabetesPedigreeFunction         Age     Outcome  \n",
       "count  768.000000                768.000000  768.000000  768.000000  \n",
       "mean    31.992578                  0.471876   33.240885    0.348958  \n",
       "std      7.884160                  0.331329   11.760232    0.476951  \n",
       "min      0.000000                  0.078000   21.000000    0.000000  \n",
       "25%     27.300000                  0.243750   24.000000    0.000000  \n",
       "50%     32.000000                  0.372500   29.000000    0.000000  \n",
       "75%     36.600000                  0.626250   41.000000    1.000000  \n",
       "max     67.100000                  2.420000   81.000000    1.000000  "
      ]
     },
     "execution_count": 10,
     "metadata": {},
     "output_type": "execute_result"
    }
   ],
   "source": [
    "df.describe()"
   ]
  },
  {
   "cell_type": "markdown",
   "id": "0b07be3c",
   "metadata": {},
   "source": [
    "Observation: 'Glucose','Blood Pressure','Skin Thickness','Insulin','BMI' min value is zero"
   ]
  },
  {
   "cell_type": "markdown",
   "id": "a67961c0",
   "metadata": {},
   "source": [
    "#### Data Cleaning"
   ]
  },
  {
   "cell_type": "code",
   "execution_count": 11,
   "id": "19177328",
   "metadata": {},
   "outputs": [
    {
     "data": {
      "text/plain": [
       "(768, 9)"
      ]
     },
     "execution_count": 11,
     "metadata": {},
     "output_type": "execute_result"
    }
   ],
   "source": [
    "df.shape"
   ]
  },
  {
   "cell_type": "code",
   "execution_count": 12,
   "id": "87b2363c",
   "metadata": {},
   "outputs": [],
   "source": [
    "df=df.drop_duplicates()"
   ]
  },
  {
   "cell_type": "code",
   "execution_count": 13,
   "id": "9fc8e056",
   "metadata": {},
   "outputs": [
    {
     "data": {
      "text/plain": [
       "(768, 9)"
      ]
     },
     "execution_count": 13,
     "metadata": {},
     "output_type": "execute_result"
    }
   ],
   "source": [
    "df.shape"
   ]
  },
  {
   "cell_type": "code",
   "execution_count": 14,
   "id": "04d0ddc5",
   "metadata": {},
   "outputs": [
    {
     "data": {
      "text/plain": [
       "Pregnancies                 0\n",
       "Glucose                     0\n",
       "BloodPressure               0\n",
       "SkinThickness               0\n",
       "Insulin                     0\n",
       "BMI                         0\n",
       "DiabetesPedigreeFunction    0\n",
       "Age                         0\n",
       "Outcome                     0\n",
       "dtype: int64"
      ]
     },
     "execution_count": 14,
     "metadata": {},
     "output_type": "execute_result"
    }
   ],
   "source": [
    "# Checking for null values (Missing Values)\n",
    "df.isnull().sum()"
   ]
  },
  {
   "cell_type": "code",
   "execution_count": 15,
   "id": "b50c3444",
   "metadata": {},
   "outputs": [
    {
     "name": "stdout",
     "output_type": "stream",
     "text": [
      "Pregnancies                 False\n",
      "Glucose                     False\n",
      "BloodPressure               False\n",
      "SkinThickness               False\n",
      "Insulin                     False\n",
      "BMI                         False\n",
      "DiabetesPedigreeFunction    False\n",
      "Age                         False\n",
      "Outcome                     False\n",
      "dtype: bool\n",
      "0\n"
     ]
    }
   ],
   "source": [
    "# Checking for any missing values\n",
    "df.columns\n",
    "missing_values = df.isna().any()\n",
    "print(missing_values)\n",
    "print(missing_values.sum())\n"
   ]
  },
  {
   "cell_type": "markdown",
   "id": "dc85a589",
   "metadata": {},
   "source": [
    "#### Check the no of Zero values in dataset"
   ]
  },
  {
   "cell_type": "code",
   "execution_count": 16,
   "id": "dd472ce4",
   "metadata": {},
   "outputs": [
    {
     "name": "stdout",
     "output_type": "stream",
     "text": [
      "No of Zeros in Glucose  5\n"
     ]
    }
   ],
   "source": [
    "print('No of Zeros in Glucose ',df[df['Glucose']==0].shape[0])"
   ]
  },
  {
   "cell_type": "code",
   "execution_count": 17,
   "id": "b26663dc",
   "metadata": {},
   "outputs": [
    {
     "name": "stdout",
     "output_type": "stream",
     "text": [
      "No of Zeros in Blood Pressure  35\n"
     ]
    }
   ],
   "source": [
    "print('No of Zeros in Blood Pressure ',df[df['BloodPressure']==0].shape[0])\n",
    "#print('No of Zeros in BloodPressure ',df[df['BloodPressure']==0].shape[0])"
   ]
  },
  {
   "cell_type": "code",
   "execution_count": 18,
   "id": "9bb62060",
   "metadata": {},
   "outputs": [
    {
     "name": "stdout",
     "output_type": "stream",
     "text": [
      "No of Zeros in SkinThickness  227\n"
     ]
    }
   ],
   "source": [
    "print('No of Zeros in SkinThickness ',df[df['SkinThickness']==0].shape[0])"
   ]
  },
  {
   "cell_type": "code",
   "execution_count": 19,
   "id": "0856945f",
   "metadata": {},
   "outputs": [
    {
     "name": "stdout",
     "output_type": "stream",
     "text": [
      "No of Zeros in Insulin  374\n"
     ]
    }
   ],
   "source": [
    "print('No of Zeros in Insulin ',df[df['Insulin']==0].shape[0])"
   ]
  },
  {
   "cell_type": "code",
   "execution_count": 20,
   "id": "95d59529",
   "metadata": {},
   "outputs": [
    {
     "name": "stdout",
     "output_type": "stream",
     "text": [
      "No of Zeros in BMI  11\n"
     ]
    }
   ],
   "source": [
    "print('No of Zeros in BMI ',df[df['BMI']==0].shape[0])"
   ]
  },
  {
   "cell_type": "markdown",
   "id": "e03972b0",
   "metadata": {},
   "source": [
    "Replace the zero values with the mean of that columns"
   ]
  },
  {
   "cell_type": "code",
   "execution_count": 21,
   "id": "e6c933bb",
   "metadata": {},
   "outputs": [
    {
     "name": "stdout",
     "output_type": "stream",
     "text": [
      "No of zero values in Glucose  0\n"
     ]
    }
   ],
   "source": [
    "df['Glucose']=df['Glucose'].replace(0,df['Glucose'].mean())\n",
    "print('No of zero values in Glucose ',df[df['Glucose']==0].shape[0])"
   ]
  },
  {
   "cell_type": "code",
   "execution_count": 22,
   "id": "27d1ece3",
   "metadata": {},
   "outputs": [],
   "source": [
    "df['BloodPressure']=df['BloodPressure'].replace(0,df['BloodPressure'].mean())\n",
    "df['SkinThickness']=df['SkinThickness'].replace(0,df['SkinThickness'].mean())\n",
    "df['Insulin']=df['Insulin'].replace(0,df['Insulin'].mean())\n",
    "df['BMI']=df['BMI'].replace(0,df['BMI'].mean())"
   ]
  },
  {
   "cell_type": "code",
   "execution_count": 23,
   "id": "fba552d2",
   "metadata": {},
   "outputs": [
    {
     "data": {
      "text/html": [
       "<div>\n",
       "<style scoped>\n",
       "    .dataframe tbody tr th:only-of-type {\n",
       "        vertical-align: middle;\n",
       "    }\n",
       "\n",
       "    .dataframe tbody tr th {\n",
       "        vertical-align: top;\n",
       "    }\n",
       "\n",
       "    .dataframe thead th {\n",
       "        text-align: right;\n",
       "    }\n",
       "</style>\n",
       "<table border=\"1\" class=\"dataframe\">\n",
       "  <thead>\n",
       "    <tr style=\"text-align: right;\">\n",
       "      <th></th>\n",
       "      <th>Pregnancies</th>\n",
       "      <th>Glucose</th>\n",
       "      <th>BloodPressure</th>\n",
       "      <th>SkinThickness</th>\n",
       "      <th>Insulin</th>\n",
       "      <th>BMI</th>\n",
       "      <th>DiabetesPedigreeFunction</th>\n",
       "      <th>Age</th>\n",
       "      <th>Outcome</th>\n",
       "    </tr>\n",
       "  </thead>\n",
       "  <tbody>\n",
       "    <tr>\n",
       "      <th>count</th>\n",
       "      <td>768.000000</td>\n",
       "      <td>768.000000</td>\n",
       "      <td>768.000000</td>\n",
       "      <td>768.000000</td>\n",
       "      <td>768.000000</td>\n",
       "      <td>768.000000</td>\n",
       "      <td>768.000000</td>\n",
       "      <td>768.000000</td>\n",
       "      <td>768.000000</td>\n",
       "    </tr>\n",
       "    <tr>\n",
       "      <th>mean</th>\n",
       "      <td>3.845052</td>\n",
       "      <td>121.681605</td>\n",
       "      <td>72.254807</td>\n",
       "      <td>26.606479</td>\n",
       "      <td>118.660163</td>\n",
       "      <td>32.450805</td>\n",
       "      <td>0.471876</td>\n",
       "      <td>33.240885</td>\n",
       "      <td>0.348958</td>\n",
       "    </tr>\n",
       "    <tr>\n",
       "      <th>std</th>\n",
       "      <td>3.369578</td>\n",
       "      <td>30.436016</td>\n",
       "      <td>12.115932</td>\n",
       "      <td>9.631241</td>\n",
       "      <td>93.080358</td>\n",
       "      <td>6.875374</td>\n",
       "      <td>0.331329</td>\n",
       "      <td>11.760232</td>\n",
       "      <td>0.476951</td>\n",
       "    </tr>\n",
       "    <tr>\n",
       "      <th>min</th>\n",
       "      <td>0.000000</td>\n",
       "      <td>44.000000</td>\n",
       "      <td>24.000000</td>\n",
       "      <td>7.000000</td>\n",
       "      <td>14.000000</td>\n",
       "      <td>18.200000</td>\n",
       "      <td>0.078000</td>\n",
       "      <td>21.000000</td>\n",
       "      <td>0.000000</td>\n",
       "    </tr>\n",
       "    <tr>\n",
       "      <th>25%</th>\n",
       "      <td>1.000000</td>\n",
       "      <td>99.750000</td>\n",
       "      <td>64.000000</td>\n",
       "      <td>20.536458</td>\n",
       "      <td>79.799479</td>\n",
       "      <td>27.500000</td>\n",
       "      <td>0.243750</td>\n",
       "      <td>24.000000</td>\n",
       "      <td>0.000000</td>\n",
       "    </tr>\n",
       "    <tr>\n",
       "      <th>50%</th>\n",
       "      <td>3.000000</td>\n",
       "      <td>117.000000</td>\n",
       "      <td>72.000000</td>\n",
       "      <td>23.000000</td>\n",
       "      <td>79.799479</td>\n",
       "      <td>32.000000</td>\n",
       "      <td>0.372500</td>\n",
       "      <td>29.000000</td>\n",
       "      <td>0.000000</td>\n",
       "    </tr>\n",
       "    <tr>\n",
       "      <th>75%</th>\n",
       "      <td>6.000000</td>\n",
       "      <td>140.250000</td>\n",
       "      <td>80.000000</td>\n",
       "      <td>32.000000</td>\n",
       "      <td>127.250000</td>\n",
       "      <td>36.600000</td>\n",
       "      <td>0.626250</td>\n",
       "      <td>41.000000</td>\n",
       "      <td>1.000000</td>\n",
       "    </tr>\n",
       "    <tr>\n",
       "      <th>max</th>\n",
       "      <td>17.000000</td>\n",
       "      <td>199.000000</td>\n",
       "      <td>122.000000</td>\n",
       "      <td>99.000000</td>\n",
       "      <td>846.000000</td>\n",
       "      <td>67.100000</td>\n",
       "      <td>2.420000</td>\n",
       "      <td>81.000000</td>\n",
       "      <td>1.000000</td>\n",
       "    </tr>\n",
       "  </tbody>\n",
       "</table>\n",
       "</div>"
      ],
      "text/plain": [
       "       Pregnancies     Glucose  BloodPressure  SkinThickness     Insulin  \\\n",
       "count   768.000000  768.000000     768.000000     768.000000  768.000000   \n",
       "mean      3.845052  121.681605      72.254807      26.606479  118.660163   \n",
       "std       3.369578   30.436016      12.115932       9.631241   93.080358   \n",
       "min       0.000000   44.000000      24.000000       7.000000   14.000000   \n",
       "25%       1.000000   99.750000      64.000000      20.536458   79.799479   \n",
       "50%       3.000000  117.000000      72.000000      23.000000   79.799479   \n",
       "75%       6.000000  140.250000      80.000000      32.000000  127.250000   \n",
       "max      17.000000  199.000000     122.000000      99.000000  846.000000   \n",
       "\n",
       "              BMI  DiabetesPedigreeFunction         Age     Outcome  \n",
       "count  768.000000                768.000000  768.000000  768.000000  \n",
       "mean    32.450805                  0.471876   33.240885    0.348958  \n",
       "std      6.875374                  0.331329   11.760232    0.476951  \n",
       "min     18.200000                  0.078000   21.000000    0.000000  \n",
       "25%     27.500000                  0.243750   24.000000    0.000000  \n",
       "50%     32.000000                  0.372500   29.000000    0.000000  \n",
       "75%     36.600000                  0.626250   41.000000    1.000000  \n",
       "max     67.100000                  2.420000   81.000000    1.000000  "
      ]
     },
     "execution_count": 23,
     "metadata": {},
     "output_type": "execute_result"
    }
   ],
   "source": [
    "df.describe()"
   ]
  },
  {
   "cell_type": "markdown",
   "id": "aa779a62",
   "metadata": {},
   "source": [
    "4) Data Visualization"
   ]
  },
  {
   "cell_type": "code",
   "execution_count": 24,
   "id": "c6c7f5ca",
   "metadata": {},
   "outputs": [
    {
     "name": "stderr",
     "output_type": "stream",
     "text": [
      "C:\\Users\\ASUS\\anaconda3\\lib\\site-packages\\seaborn\\_decorators.py:36: FutureWarning: Pass the following variable as a keyword arg: x. From version 0.12, the only valid positional argument will be `data`, and passing other arguments without an explicit keyword will result in an error or misinterpretation.\n",
      "  warnings.warn(\n"
     ]
    },
    {
     "name": "stdout",
     "output_type": "stream",
     "text": [
      "Negative (0):  500\n",
      "Positive (1):  268\n"
     ]
    },
    {
     "data": {
      "image/png": "[encoded data removed]",
      "text/plain": [
       "<Figure size 1000x500 with 2 Axes>"
      ]
     },
     "metadata": {},
     "output_type": "display_data"
    }
   ],
   "source": [
    "# Count Plot\n",
    "f,ax=plt.subplots(1,2,figsize=(10,5))\n",
    "df['Outcome'].value_counts().plot.pie(explode=[0,0.1],autopct='%1.1f%%',ax=ax[0],shadow=True)\n",
    "ax[0].set_title('Outcome')\n",
    "ax[0].set_ylabel('')\n",
    "sns.countplot('Outcome',data=df,ax=ax[1])\n",
    "ax[1].set_title('Outcome')\n",
    "N,P=df['Outcome'].value_counts()\n",
    "print('Negative (0): ',N)\n",
    "print('Positive (1): ',P)\n",
    "plt.grid()\n",
    "plt.show()"
   ]
  },
  {
   "cell_type": "code",
   "execution_count": 25,
   "id": "ac0c5a5f",
   "metadata": {},
   "outputs": [],
   "source": [
    "## Split the data frame into x&y\n",
    "y=df['Outcome']\n",
    "X=df.drop('Outcome',axis=1)"
   ]
  },
  {
   "cell_type": "code",
   "execution_count": 26,
   "id": "bd9c4d22",
   "metadata": {},
   "outputs": [
    {
     "data": {
      "text/html": [
       "<div>\n",
       "<style scoped>\n",
       "    .dataframe tbody tr th:only-of-type {\n",
       "        vertical-align: middle;\n",
       "    }\n",
       "\n",
       "    .dataframe tbody tr th {\n",
       "        vertical-align: top;\n",
       "    }\n",
       "\n",
       "    .dataframe thead th {\n",
       "        text-align: right;\n",
       "    }\n",
       "</style>\n",
       "<table border=\"1\" class=\"dataframe\">\n",
       "  <thead>\n",
       "    <tr style=\"text-align: right;\">\n",
       "      <th></th>\n",
       "      <th>Pregnancies</th>\n",
       "      <th>Glucose</th>\n",
       "      <th>BloodPressure</th>\n",
       "      <th>SkinThickness</th>\n",
       "      <th>Insulin</th>\n",
       "      <th>BMI</th>\n",
       "      <th>DiabetesPedigreeFunction</th>\n",
       "      <th>Age</th>\n",
       "    </tr>\n",
       "  </thead>\n",
       "  <tbody>\n",
       "    <tr>\n",
       "      <th>0</th>\n",
       "      <td>6</td>\n",
       "      <td>148.0</td>\n",
       "      <td>72.0</td>\n",
       "      <td>35.000000</td>\n",
       "      <td>79.799479</td>\n",
       "      <td>33.6</td>\n",
       "      <td>0.627</td>\n",
       "      <td>50</td>\n",
       "    </tr>\n",
       "    <tr>\n",
       "      <th>1</th>\n",
       "      <td>1</td>\n",
       "      <td>85.0</td>\n",
       "      <td>66.0</td>\n",
       "      <td>29.000000</td>\n",
       "      <td>79.799479</td>\n",
       "      <td>26.6</td>\n",
       "      <td>0.351</td>\n",
       "      <td>31</td>\n",
       "    </tr>\n",
       "    <tr>\n",
       "      <th>2</th>\n",
       "      <td>8</td>\n",
       "      <td>183.0</td>\n",
       "      <td>64.0</td>\n",
       "      <td>20.536458</td>\n",
       "      <td>79.799479</td>\n",
       "      <td>23.3</td>\n",
       "      <td>0.672</td>\n",
       "      <td>32</td>\n",
       "    </tr>\n",
       "    <tr>\n",
       "      <th>3</th>\n",
       "      <td>1</td>\n",
       "      <td>89.0</td>\n",
       "      <td>66.0</td>\n",
       "      <td>23.000000</td>\n",
       "      <td>94.000000</td>\n",
       "      <td>28.1</td>\n",
       "      <td>0.167</td>\n",
       "      <td>21</td>\n",
       "    </tr>\n",
       "    <tr>\n",
       "      <th>4</th>\n",
       "      <td>0</td>\n",
       "      <td>137.0</td>\n",
       "      <td>40.0</td>\n",
       "      <td>35.000000</td>\n",
       "      <td>168.000000</td>\n",
       "      <td>43.1</td>\n",
       "      <td>2.288</td>\n",
       "      <td>33</td>\n",
       "    </tr>\n",
       "  </tbody>\n",
       "</table>\n",
       "</div>"
      ],
      "text/plain": [
       "   Pregnancies  Glucose  BloodPressure  SkinThickness     Insulin   BMI  \\\n",
       "0            6    148.0           72.0      35.000000   79.799479  33.6   \n",
       "1            1     85.0           66.0      29.000000   79.799479  26.6   \n",
       "2            8    183.0           64.0      20.536458   79.799479  23.3   \n",
       "3            1     89.0           66.0      23.000000   94.000000  28.1   \n",
       "4            0    137.0           40.0      35.000000  168.000000  43.1   \n",
       "\n",
       "   DiabetesPedigreeFunction  Age  \n",
       "0                     0.627   50  \n",
       "1                     0.351   31  \n",
       "2                     0.672   32  \n",
       "3                     0.167   21  \n",
       "4                     2.288   33  "
      ]
     },
     "execution_count": 26,
     "metadata": {},
     "output_type": "execute_result"
    }
   ],
   "source": [
    "X.head()"
   ]
  },
  {
   "cell_type": "code",
   "execution_count": 27,
   "id": "8563eba7",
   "metadata": {},
   "outputs": [
    {
     "data": {
      "text/plain": [
       "0    1\n",
       "1    0\n",
       "2    1\n",
       "3    0\n",
       "4    1\n",
       "Name: Outcome, dtype: int64"
      ]
     },
     "execution_count": 27,
     "metadata": {},
     "output_type": "execute_result"
    }
   ],
   "source": [
    "y.head()"
   ]
  },
  {
   "cell_type": "code",
   "execution_count": 28,
   "id": "95720280",
   "metadata": {},
   "outputs": [],
   "source": [
    "# Applying Feature Scaling\n",
    "from sklearn.preprocessing import StandardScaler\n",
    "scaler=StandardScaler()\n",
    "scaler.fit(X)\n",
    "SSX=scaler.transform(X)"
   ]
  },
  {
   "cell_type": "markdown",
   "id": "18ab57ee",
   "metadata": {},
   "source": [
    "##### Train Test Split"
   ]
  },
  {
   "cell_type": "code",
   "execution_count": 29,
   "id": "50d21aec",
   "metadata": {},
   "outputs": [],
   "source": [
    "from sklearn.model_selection import train_test_split\n",
    "X_train,X_test,y_train,y_test=train_test_split(SSX,y,test_size=0.2,random_state=7)"
   ]
  },
  {
   "cell_type": "code",
   "execution_count": 30,
   "id": "23abb451",
   "metadata": {},
   "outputs": [
    {
     "data": {
      "text/plain": [
       "((614, 8), (614,))"
      ]
     },
     "execution_count": 30,
     "metadata": {},
     "output_type": "execute_result"
    }
   ],
   "source": [
    "X_train.shape,y_train.shape"
   ]
  },
  {
   "cell_type": "markdown",
   "id": "4cc263a9",
   "metadata": {},
   "source": [
    "## SVM (Linear & Gaussian)"
   ]
  },
  {
   "cell_type": "code",
   "execution_count": 31,
   "id": "682b698c",
   "metadata": {},
   "outputs": [
    {
     "data": {
      "text/plain": [
       "SVC(kernel='linear')"
      ]
     },
     "execution_count": 31,
     "metadata": {},
     "output_type": "execute_result"
    }
   ],
   "source": [
    "from sklearn.svm import SVC\n",
    "# create an instance of the SVM classifier with linear kernel\n",
    "svm_linear = SVC(kernel='linear')\n",
    "# train the SVM classifier on the training data\n",
    "svm_linear.fit(X_train, y_train)"
   ]
  },
  {
   "cell_type": "code",
   "execution_count": 32,
   "id": "9875ab2f",
   "metadata": {},
   "outputs": [
    {
     "data": {
      "text/plain": [
       "SVC()"
      ]
     },
     "execution_count": 32,
     "metadata": {},
     "output_type": "execute_result"
    }
   ],
   "source": [
    "from sklearn.svm import SVC\n",
    "# create an instance of the SVM classifier with rbf kernel\n",
    "svm_rbf=SVC(kernel='rbf')\n",
    "# train the SVM classifier on the training data\n",
    "svm_rbf.fit(X_train, y_train)\n",
    "\n"
   ]
  },
  {
   "cell_type": "markdown",
   "id": "7a8308dd",
   "metadata": {},
   "source": [
    "# Making Prediction SVM Linear"
   ]
  },
  {
   "cell_type": "code",
   "execution_count": 33,
   "id": "034be458",
   "metadata": {},
   "outputs": [],
   "source": [
    "## Making prediction on test dataset SVM\n",
    "#svm_pred=svm_linear.predict(X_test)\n",
    "#print(svm_pred)\n",
    "#print(svm_pred.shape)\n",
    "## Making prediction on trainning dataset SVM\n",
    "#svm_pred_train=svm_linear.predict(X_train)\n",
    "#print(svm_pred_train)\n",
    "#print(svm_pred_train.shape)\n",
    "\n",
    "\n",
    "# Predict on train and test sets\n",
    "train_pred = svm_linear.predict(X_train)\n",
    "test_pred = svm_linear.predict(X_test)"
   ]
  },
  {
   "cell_type": "markdown",
   "id": "8be7bb81",
   "metadata": {},
   "source": [
    "## Model Evaluation SVM Linear"
   ]
  },
  {
   "cell_type": "code",
   "execution_count": 34,
   "id": "fb95e2ed",
   "metadata": {},
   "outputs": [
    {
     "name": "stdout",
     "output_type": "stream",
     "text": [
      "Train Accuracy of SVM Linear  76.8729641693811\n",
      "Test Accuracy of SVM Linear 78.57142857142857\n"
     ]
    }
   ],
   "source": [
    "from sklearn.metrics import accuracy_score\n",
    "#SVM Linear Kernel\n",
    "print(\"Train Accuracy of SVM Linear \",accuracy_score(y_train,train_pred)*100)\n",
    "print(\"Test Accuracy of SVM Linear\",accuracy_score(y_test,test_pred)*100)\n",
    "\n",
    "\n",
    "\n"
   ]
  },
  {
   "cell_type": "markdown",
   "id": "79f26aaa",
   "metadata": {},
   "source": [
    "## Confusion Matrix(SVM-Linear)"
   ]
  },
  {
   "cell_type": "code",
   "execution_count": 35,
   "id": "6cb4caeb",
   "metadata": {},
   "outputs": [
    {
     "name": "stdout",
     "output_type": "stream",
     "text": [
      "[[89  8]\n",
      " [25 32]]\n"
     ]
    }
   ],
   "source": [
    "from sklearn.metrics import classification_report,confusion_matrix\n",
    "#Confusion matrix for Logistic Regression\n",
    "cm=confusion_matrix(y_test,test_pred)\n",
    "print(cm)"
   ]
  },
  {
   "cell_type": "code",
   "execution_count": 36,
   "id": "dbcc1333",
   "metadata": {},
   "outputs": [
    {
     "data": {
      "text/plain": [
       "<AxesSubplot:>"
      ]
     },
     "execution_count": 36,
     "metadata": {},
     "output_type": "execute_result"
    },
    {
     "data": {
      "image/png": "[encoded data removed]",
      "text/plain": [
       "<Figure size 640x480 with 2 Axes>"
      ]
     },
     "metadata": {},
     "output_type": "display_data"
    }
   ],
   "source": [
    "sns.heatmap(confusion_matrix(y_test,test_pred),annot=True,fmt=\"d\")"
   ]
  },
  {
   "cell_type": "markdown",
   "id": "76dc37a5",
   "metadata": {},
   "source": [
    "##### PRECISION (PPV-Positive Predictive Value)"
   ]
  },
  {
   "cell_type": "code",
   "execution_count": 37,
   "id": "a80dd5d0",
   "metadata": {},
   "outputs": [
    {
     "name": "stdout",
     "output_type": "stream",
     "text": [
      "Precision score of SVM_linear Train  71.16564417177914\n",
      "Precision score of SVM_linear Test  80.0\n"
     ]
    }
   ],
   "source": [
    "from sklearn.metrics import precision_score\n",
    "print(\"Precision score of SVM_linear Train \",precision_score(y_train,train_pred)*100)\n",
    "print(\"Precision score of SVM_linear Test \",precision_score(y_test,test_pred)*100)\n"
   ]
  },
  {
   "cell_type": "markdown",
   "id": "d6a1f15c",
   "metadata": {},
   "source": [
    "## Recall"
   ]
  },
  {
   "cell_type": "code",
   "execution_count": 38,
   "id": "b0cb8785",
   "metadata": {},
   "outputs": [
    {
     "name": "stdout",
     "output_type": "stream",
     "text": [
      "Recall score of SVM_linear Train  54.976303317535546\n",
      "Recall or Sensitivity_Score of SVM_linear Test :  56.14035087719298\n"
     ]
    }
   ],
   "source": [
    "from sklearn.metrics import recall_score\n",
    "print(\"Recall score of SVM_linear Train \",recall_score(y_train,train_pred)*100)\n",
    "print(\"Recall or Sensitivity_Score of SVM_linear Test : \",recall_score(y_test,test_pred)*100)\n"
   ]
  },
  {
   "cell_type": "markdown",
   "id": "908acb5e",
   "metadata": {},
   "source": [
    "### F1 Score"
   ]
  },
  {
   "cell_type": "code",
   "execution_count": 39,
   "id": "d73c66ec",
   "metadata": {},
   "outputs": [
    {
     "name": "stdout",
     "output_type": "stream",
     "text": [
      "F1 score of SVM_linear Train  62.03208556149732\n",
      "F1 score Test  65.97938144329896\n"
     ]
    }
   ],
   "source": [
    "from sklearn.metrics import f1_score\n",
    "print(\"F1 score of SVM_linear Train \",f1_score(y_train,train_pred)*100)\n",
    "print(\"F1 score Test \",f1_score(y_test,test_pred)*100)\n"
   ]
  },
  {
   "cell_type": "markdown",
   "id": "5b44bf8c",
   "metadata": {},
   "source": [
    "# ReliefF to find best Features\n"
   ]
  },
  {
   "cell_type": "code",
   "execution_count": 40,
   "id": "e4bc2ac0",
   "metadata": {},
   "outputs": [
    {
     "name": "stdout",
     "output_type": "stream",
     "text": [
      "Index(['Pregnancies', 'Glucose', 'BloodPressure', 'SkinThickness', 'Insulin',\n",
      "       'BMI', 'DiabetesPedigreeFunction', 'Age'],\n",
      "      dtype='object')\n",
      "                  Attribute     Score  Rank\n",
      "0               Pregnancies  0.012646   4.0\n",
      "1                   Glucose  0.038040   1.0\n",
      "2             BloodPressure  0.007284   7.0\n",
      "3             SkinThickness  0.007517   6.0\n",
      "4                   Insulin  0.002222   8.0\n",
      "5                       BMI  0.019044   2.0\n",
      "6  DiabetesPedigreeFunction  0.008426   5.0\n",
      "7                       Age  0.012728   3.0\n"
     ]
    }
   ],
   "source": [
    "#!pip install skrebate\n",
    "from skrebate import ReliefF\n",
    "\n",
    "# Load dataset\n",
    "X = df.drop('Outcome', axis=1)\n",
    "y = df['Outcome']\n",
    "print(X.columns)\n",
    "# Initialize ReliefF feature selector\n",
    "fs = ReliefF(n_neighbors=20)\n",
    "\n",
    "# Fit the feature selector to the data\n",
    "fs.fit(X.values, y.values)\n",
    "\n",
    "# Get the feature importance scores and their respective attribute names\n",
    "scores = pd.DataFrame({'Attribute': X.columns, 'Score': fs.feature_importances_})\n",
    "\n",
    "# Add Rank column based on the sorted order of scores\n",
    "scores['Rank'] = scores['Score'].rank(method='min', ascending=False)\n",
    "\n",
    "# Print the scores\n",
    "print(scores)\n"
   ]
  },
  {
   "cell_type": "markdown",
   "id": "98e44607",
   "metadata": {},
   "source": [
    "##### For Feature size_2(75%) for SVM(Linear)"
   ]
  },
  {
   "cell_type": "code",
   "execution_count": 41,
   "id": "fed20dce",
   "metadata": {},
   "outputs": [
    {
     "name": "stdout",
     "output_type": "stream",
     "text": [
      "   Glucose   BMI  Age  Pregnancies  BloodPressure  DiabetesPedigreeFunction\n",
      "0    148.0  33.6   50            6           72.0                     0.627\n",
      "1     85.0  26.6   31            1           66.0                     0.351\n",
      "2    183.0  23.3   32            8           64.0                     0.672\n",
      "3     89.0  28.1   21            1           66.0                     0.167\n",
      "4    137.0  43.1   33            0           40.0                     2.288\n",
      "\n",
      "(768, 6)\n"
     ]
    }
   ],
   "source": [
    "# 6 Features to be selected are-->Glucose,BMI,Age,Pregnancies,DiabetesPrdigreeFunction,SkinThickness\n",
    "\n",
    "selected_columns_fs2=[\"Glucose\",\"BMI\",\"Age\",\"Pregnancies\",\"BloodPressure\",\"DiabetesPedigreeFunction\"]\n",
    "df_selected=df[selected_columns_fs2]\n",
    "print(df_selected.head())\n",
    "print()\n",
    "\n",
    "\n",
    "from sklearn.preprocessing import StandardScaler\n",
    "scaler=StandardScaler()\n",
    "scaler.fit(df_selected)\n",
    "\n",
    "SS1=scaler.transform(df_selected)\n",
    "print(SS1.shape)\n"
   ]
  },
  {
   "cell_type": "code",
   "execution_count": 42,
   "id": "d9e9b514",
   "metadata": {},
   "outputs": [],
   "source": [
    "from sklearn.model_selection import train_test_split\n",
    "X_train,X_test,y_train,y_test=train_test_split(SS1,y,test_size=0.2,random_state=7)"
   ]
  },
  {
   "cell_type": "code",
   "execution_count": 43,
   "id": "0e0a78f4",
   "metadata": {},
   "outputs": [
    {
     "data": {
      "text/plain": [
       "SVC(kernel='linear')"
      ]
     },
     "execution_count": 43,
     "metadata": {},
     "output_type": "execute_result"
    }
   ],
   "source": [
    "from sklearn.svm import SVC\n",
    "# create an instance of the SVM classifier with linear kernel\n",
    "svm_linear = SVC(kernel='linear')\n",
    "# train the SVM classifier on the training data\n",
    "svm_linear.fit(X_train, y_train)"
   ]
  },
  {
   "cell_type": "code",
   "execution_count": 44,
   "id": "38af03e9",
   "metadata": {},
   "outputs": [],
   "source": [
    "# Predict on train and test sets\n",
    "train_pred = svm_linear.predict(X_train)\n",
    "test_pred = svm_linear.predict(X_test)"
   ]
  },
  {
   "cell_type": "code",
   "execution_count": 45,
   "id": "93a095eb",
   "metadata": {},
   "outputs": [
    {
     "name": "stdout",
     "output_type": "stream",
     "text": [
      "Train Accuracy of SVM Linear on Fs2 75%  76.71009771986971\n",
      "Test Accuracy of SVM Linear on Fs2 75% 77.92207792207793\n"
     ]
    }
   ],
   "source": [
    "#SVM Linear Kernel\n",
    "print(\"Train Accuracy of SVM Linear on Fs2 75% \",accuracy_score(y_train,train_pred)*100)\n",
    "print(\"Test Accuracy of SVM Linear on Fs2 75%\",accuracy_score(y_test,test_pred)*100)"
   ]
  },
  {
   "cell_type": "code",
   "execution_count": 46,
   "id": "2b07c2f7",
   "metadata": {},
   "outputs": [
    {
     "data": {
      "text/plain": [
       "<AxesSubplot:>"
      ]
     },
     "execution_count": 46,
     "metadata": {},
     "output_type": "execute_result"
    },
    {
     "data": {
      "image/png": "[encoded data removed]",
      "text/plain": [
       "<Figure size 640x480 with 2 Axes>"
      ]
     },
     "metadata": {},
     "output_type": "display_data"
    }
   ],
   "source": [
    "#Confusion Matrix of FS2=75%\n",
    "sns.heatmap(confusion_matrix(y_test,test_pred),annot=True,fmt=\"d\")"
   ]
  },
  {
   "cell_type": "markdown",
   "id": "7b3a8c01",
   "metadata": {},
   "source": [
    "##### PRECISION (PPV-Positive Predictive Value)"
   ]
  },
  {
   "cell_type": "code",
   "execution_count": 47,
   "id": "881ba559",
   "metadata": {},
   "outputs": [
    {
     "name": "stdout",
     "output_type": "stream",
     "text": [
      "Precision score of SVM_linear Train of Fs2=75%  70.48192771084338\n",
      "Precision score of SVM_linear Test of fs2=75%  79.48717948717949\n"
     ]
    }
   ],
   "source": [
    "from sklearn.metrics import precision_score\n",
    "print(\"Precision score of SVM_linear Train of Fs2=75% \",precision_score(y_train,train_pred)*100)\n",
    "print(\"Precision score of SVM_linear Test of fs2=75% \",precision_score(y_test,test_pred)*100)\n"
   ]
  },
  {
   "cell_type": "markdown",
   "id": "3a5d3eec",
   "metadata": {},
   "source": [
    "## Recall"
   ]
  },
  {
   "cell_type": "code",
   "execution_count": 48,
   "id": "ebcf82ca",
   "metadata": {},
   "outputs": [
    {
     "name": "stdout",
     "output_type": "stream",
     "text": [
      "Recall score of SVM_linear Train of Fs2=75%  55.45023696682464\n",
      "Recall or Sensitivity_Score of SVM_linear Test of fs2=75%  :  54.385964912280706\n"
     ]
    }
   ],
   "source": [
    "from sklearn.metrics import recall_score\n",
    "print(\"Recall score of SVM_linear Train of Fs2=75% \",recall_score(y_train,train_pred)*100)\n",
    "print(\"Recall or Sensitivity_Score of SVM_linear Test of fs2=75%  : \",recall_score(y_test,test_pred)*100)"
   ]
  },
  {
   "cell_type": "markdown",
   "id": "1d42d03d",
   "metadata": {},
   "source": [
    "### F1 Score"
   ]
  },
  {
   "cell_type": "code",
   "execution_count": 49,
   "id": "2ca9f6fe",
   "metadata": {},
   "outputs": [
    {
     "name": "stdout",
     "output_type": "stream",
     "text": [
      "F1 score of SVM_linear Train of Fs2=75%   62.06896551724138\n",
      "F1 score Test of Fs2=75%  64.58333333333333\n"
     ]
    }
   ],
   "source": [
    "from sklearn.metrics import f1_score\n",
    "print(\"F1 score of SVM_linear Train of Fs2=75%  \",f1_score(y_train,train_pred)*100)\n",
    "print(\"F1 score Test of Fs2=75% \",f1_score(y_test,test_pred)*100)\n"
   ]
  },
  {
   "cell_type": "markdown",
   "id": "7202aa61",
   "metadata": {},
   "source": [
    "##### For Feature size_3(50%) for SVM(Linear)"
   ]
  },
  {
   "cell_type": "code",
   "execution_count": 50,
   "id": "5d459d52",
   "metadata": {},
   "outputs": [
    {
     "name": "stdout",
     "output_type": "stream",
     "text": [
      "   Glucose   BMI  Age  Pregnancies\n",
      "0    148.0  33.6   50            6\n",
      "1     85.0  26.6   31            1\n",
      "2    183.0  23.3   32            8\n",
      "3     89.0  28.1   21            1\n",
      "4    137.0  43.1   33            0\n",
      "\n",
      "(768, 4)\n"
     ]
    }
   ],
   "source": [
    "# 4 Features to be selected are-->Glucose,BMI,Age,Pregnancies\n",
    "\n",
    "selected_columns_fs3=[\"Glucose\",\"BMI\",\"Age\",\"Pregnancies\"]\n",
    "df_selected=df[selected_columns_fs3]\n",
    "print(df_selected.head())\n",
    "print()\n",
    "\n",
    "\n",
    "from sklearn.preprocessing import StandardScaler\n",
    "scaler=StandardScaler()\n",
    "scaler.fit(df_selected)\n",
    "\n",
    "SS1=scaler.transform(df_selected)\n",
    "print(SS1.shape)"
   ]
  },
  {
   "cell_type": "code",
   "execution_count": 51,
   "id": "0a4617dd",
   "metadata": {},
   "outputs": [],
   "source": [
    "from sklearn.model_selection import train_test_split\n",
    "X_train,X_test,y_train,y_test=train_test_split(SS1,y,test_size=0.2,random_state=7)"
   ]
  },
  {
   "cell_type": "code",
   "execution_count": 52,
   "id": "ecfdbfa7",
   "metadata": {},
   "outputs": [
    {
     "data": {
      "text/plain": [
       "SVC(kernel='linear')"
      ]
     },
     "execution_count": 52,
     "metadata": {},
     "output_type": "execute_result"
    }
   ],
   "source": [
    "from sklearn.svm import SVC\n",
    "# create an instance of the SVM classifier with linear kernel\n",
    "svm_linear = SVC(kernel='linear')\n",
    "# train the SVM classifier on the training data\n",
    "svm_linear.fit(X_train, y_train)"
   ]
  },
  {
   "cell_type": "code",
   "execution_count": 53,
   "id": "d2971a09",
   "metadata": {},
   "outputs": [],
   "source": [
    "# Predict on train and test sets\n",
    "train_pred = svm_linear.predict(X_train)\n",
    "test_pred = svm_linear.predict(X_test)"
   ]
  },
  {
   "cell_type": "code",
   "execution_count": 54,
   "id": "7a201364",
   "metadata": {},
   "outputs": [
    {
     "name": "stdout",
     "output_type": "stream",
     "text": [
      "Train Accuracy of SVM Linear on Fs3 50%  75.8957654723127\n",
      "Test Accuracy of SVM Linear on Fs3 50% 79.22077922077922\n"
     ]
    }
   ],
   "source": [
    "#SVM Linear Kernel\n",
    "print(\"Train Accuracy of SVM Linear on Fs3 50% \",accuracy_score(y_train,train_pred)*100)\n",
    "print(\"Test Accuracy of SVM Linear on Fs3 50%\",accuracy_score(y_test,test_pred)*100)"
   ]
  },
  {
   "cell_type": "code",
   "execution_count": 55,
   "id": "d2b185dc",
   "metadata": {},
   "outputs": [
    {
     "data": {
      "text/plain": [
       "<AxesSubplot:>"
      ]
     },
     "execution_count": 55,
     "metadata": {},
     "output_type": "execute_result"
    },
    {
     "data": {
      "image/png": "[encoded data removed]",
      "text/plain": [
       "<Figure size 640x480 with 2 Axes>"
      ]
     },
     "metadata": {},
     "output_type": "display_data"
    }
   ],
   "source": [
    "#Confusion Matrix of FS3=50%\n",
    "sns.heatmap(confusion_matrix(y_test,test_pred),annot=True,fmt=\"d\")"
   ]
  },
  {
   "cell_type": "markdown",
   "id": "7382977a",
   "metadata": {},
   "source": [
    "##### PRECISION (PPV-Positive Predictive Value)"
   ]
  },
  {
   "cell_type": "code",
   "execution_count": 56,
   "id": "06e5f83e",
   "metadata": {},
   "outputs": [
    {
     "name": "stdout",
     "output_type": "stream",
     "text": [
      "Precision score of SVM_linear Train of Fs3=50%  69.0909090909091\n",
      "Precision score of SVM_linear Test of fs3=50%  77.77777777777779\n"
     ]
    }
   ],
   "source": [
    "from sklearn.metrics import precision_score\n",
    "print(\"Precision score of SVM_linear Train of Fs3=50% \",precision_score(y_train,train_pred)*100)\n",
    "print(\"Precision score of SVM_linear Test of fs3=50% \",precision_score(y_test,test_pred)*100)"
   ]
  },
  {
   "cell_type": "markdown",
   "id": "c60593a9",
   "metadata": {},
   "source": [
    "## Recall"
   ]
  },
  {
   "cell_type": "code",
   "execution_count": 57,
   "id": "4a171164",
   "metadata": {},
   "outputs": [
    {
     "name": "stdout",
     "output_type": "stream",
     "text": [
      "Recall score of SVM_linear Train of Fs3=50%  54.02843601895735\n",
      "Recall or Sensitivity_Score of SVM_linear Test of fs3=50%  :  61.40350877192983\n"
     ]
    }
   ],
   "source": [
    "from sklearn.metrics import recall_score\n",
    "print(\"Recall score of SVM_linear Train of Fs3=50% \",recall_score(y_train,train_pred)*100)\n",
    "print(\"Recall or Sensitivity_Score of SVM_linear Test of fs3=50%  : \",recall_score(y_test,test_pred)*100)"
   ]
  },
  {
   "cell_type": "markdown",
   "id": "ac5dba44",
   "metadata": {},
   "source": [
    "### F1 Score"
   ]
  },
  {
   "cell_type": "code",
   "execution_count": 58,
   "id": "47ba74d8",
   "metadata": {},
   "outputs": [
    {
     "name": "stdout",
     "output_type": "stream",
     "text": [
      "F1 score of SVM_linear Train of Fs3=50%   60.63829787234043\n",
      "F1 score Test of Fs3=50%  68.62745098039215\n"
     ]
    }
   ],
   "source": [
    "from sklearn.metrics import f1_score\n",
    "print(\"F1 score of SVM_linear Train of Fs3=50%  \",f1_score(y_train,train_pred)*100)\n",
    "print(\"F1 score Test of Fs3=50% \",f1_score(y_test,test_pred)*100)"
   ]
  },
  {
   "cell_type": "markdown",
   "id": "3da4de36",
   "metadata": {},
   "source": [
    "### For Feature size_4(25%) for SVM(Linear)"
   ]
  },
  {
   "cell_type": "code",
   "execution_count": 59,
   "id": "4a7e42f9",
   "metadata": {},
   "outputs": [
    {
     "name": "stdout",
     "output_type": "stream",
     "text": [
      "   Glucose   BMI\n",
      "0    148.0  33.6\n",
      "1     85.0  26.6\n",
      "2    183.0  23.3\n",
      "3     89.0  28.1\n",
      "4    137.0  43.1\n",
      "\n",
      "(768, 2)\n"
     ]
    }
   ],
   "source": [
    "# 2 Features to be selected are-->Glucose,BMI\n",
    "\n",
    "selected_columns_fs4=[\"Glucose\",\"BMI\"]\n",
    "df_selected=df[selected_columns_fs4]\n",
    "print(df_selected.head())\n",
    "print()\n",
    "\n",
    "\n",
    "from sklearn.preprocessing import StandardScaler\n",
    "scaler=StandardScaler()\n",
    "scaler.fit(df_selected)\n",
    "\n",
    "SS1=scaler.transform(df_selected)\n",
    "print(SS1.shape)"
   ]
  },
  {
   "cell_type": "code",
   "execution_count": 60,
   "id": "65ed4f96",
   "metadata": {},
   "outputs": [],
   "source": [
    "from sklearn.model_selection import train_test_split\n",
    "X_train,X_test,y_train,y_test=train_test_split(SS1,y,test_size=0.2,random_state=7)"
   ]
  },
  {
   "cell_type": "code",
   "execution_count": 61,
   "id": "39945fdb",
   "metadata": {},
   "outputs": [
    {
     "data": {
      "text/plain": [
       "SVC(kernel='linear')"
      ]
     },
     "execution_count": 61,
     "metadata": {},
     "output_type": "execute_result"
    }
   ],
   "source": [
    "from sklearn.svm import SVC\n",
    "# create an instance of the SVM classifier with linear kernel\n",
    "svm_linear = SVC(kernel='linear')\n",
    "# train the SVM classifier on the training data\n",
    "svm_linear.fit(X_train, y_train)"
   ]
  },
  {
   "cell_type": "code",
   "execution_count": 62,
   "id": "567d8c09",
   "metadata": {},
   "outputs": [],
   "source": [
    "# Predict on train and test sets\n",
    "train_pred = svm_linear.predict(X_train)\n",
    "test_pred = svm_linear.predict(X_test)"
   ]
  },
  {
   "cell_type": "code",
   "execution_count": 63,
   "id": "db25836f",
   "metadata": {},
   "outputs": [
    {
     "name": "stdout",
     "output_type": "stream",
     "text": [
      "Train Accuracy of SVM Linear on Fs4 25%  76.54723127035831\n",
      "Test Accuracy of SVM Linear on Fs4 25% 75.97402597402598\n"
     ]
    }
   ],
   "source": [
    "#SVM Linear Kernel\n",
    "print(\"Train Accuracy of SVM Linear on Fs4 25% \",accuracy_score(y_train,train_pred)*100)\n",
    "print(\"Test Accuracy of SVM Linear on Fs4 25%\",accuracy_score(y_test,test_pred)*100)"
   ]
  },
  {
   "cell_type": "code",
   "execution_count": 64,
   "id": "0d2ce248",
   "metadata": {},
   "outputs": [
    {
     "data": {
      "text/plain": [
       "<AxesSubplot:>"
      ]
     },
     "execution_count": 64,
     "metadata": {},
     "output_type": "execute_result"
    },
    {
     "data": {
      "image/png": "[encoded data removed]",
      "text/plain": [
       "<Figure size 640x480 with 2 Axes>"
      ]
     },
     "metadata": {},
     "output_type": "display_data"
    }
   ],
   "source": [
    "#Confusion Matrix of FS4=25%\n",
    "sns.heatmap(confusion_matrix(y_test,test_pred),annot=True,fmt=\"d\")"
   ]
  },
  {
   "cell_type": "markdown",
   "id": "cada58f0",
   "metadata": {},
   "source": [
    "##### PRECISION (PPV-Positive Predictive Value)"
   ]
  },
  {
   "cell_type": "code",
   "execution_count": 65,
   "id": "0f45376f",
   "metadata": {},
   "outputs": [
    {
     "name": "stdout",
     "output_type": "stream",
     "text": [
      "Precision score of SVM_linear Train of Fs4=50%  72.18543046357617\n",
      "Precision score of SVM_linear Test of fs4=50%  77.77777777777779\n"
     ]
    }
   ],
   "source": [
    "from sklearn.metrics import precision_score\n",
    "print(\"Precision score of SVM_linear Train of Fs4=50% \",precision_score(y_train,train_pred)*100)\n",
    "print(\"Precision score of SVM_linear Test of fs4=50% \",precision_score(y_test,test_pred)*100)"
   ]
  },
  {
   "cell_type": "markdown",
   "id": "9967eab0",
   "metadata": {},
   "source": [
    "## Recall"
   ]
  },
  {
   "cell_type": "code",
   "execution_count": 66,
   "id": "c580f627",
   "metadata": {},
   "outputs": [
    {
     "name": "stdout",
     "output_type": "stream",
     "text": [
      "Recall score of SVM_linear Train of Fs3=50%  51.65876777251185\n",
      "Recall or Sensitivity_Score of SVM_linear Test of fs3=50%  :  49.122807017543856\n"
     ]
    }
   ],
   "source": [
    "from sklearn.metrics import recall_score\n",
    "print(\"Recall score of SVM_linear Train of Fs3=50% \",recall_score(y_train,train_pred)*100)\n",
    "print(\"Recall or Sensitivity_Score of SVM_linear Test of fs3=50%  : \",recall_score(y_test,test_pred)*100)"
   ]
  },
  {
   "cell_type": "markdown",
   "id": "397d21a2",
   "metadata": {},
   "source": [
    "### F1 Score"
   ]
  },
  {
   "cell_type": "code",
   "execution_count": 67,
   "id": "e4620d2b",
   "metadata": {},
   "outputs": [
    {
     "name": "stdout",
     "output_type": "stream",
     "text": [
      "F1 score of SVM_linear Train of Fs4=25%   60.22099447513812\n",
      "F1 score Test of Fs4=25%  60.21505376344085\n"
     ]
    }
   ],
   "source": [
    "from sklearn.metrics import f1_score\n",
    "print(\"F1 score of SVM_linear Train of Fs4=25%  \",f1_score(y_train,train_pred)*100)\n",
    "print(\"F1 score Test of Fs4=25% \",f1_score(y_test,test_pred)*100)"
   ]
  },
  {
   "cell_type": "markdown",
   "id": "ca8c55ea",
   "metadata": {},
   "source": [
    "# -----------------(SVM Kernel-Gaussian)-------------------------"
   ]
  },
  {
   "cell_type": "code",
   "execution_count": 68,
   "id": "d10f78b5",
   "metadata": {},
   "outputs": [
    {
     "data": {
      "text/plain": [
       "SVC()"
      ]
     },
     "execution_count": 68,
     "metadata": {},
     "output_type": "execute_result"
    }
   ],
   "source": [
    "from sklearn.svm import SVC\n",
    "# create an instance of the SVM classifier with rbf kernel\n",
    "svm_rbf=SVC(kernel='rbf')\n",
    "# train the SVM classifier on the training data\n",
    "svm_rbf.fit(X_train, y_train)\n"
   ]
  },
  {
   "cell_type": "markdown",
   "id": "2af4bafa",
   "metadata": {},
   "source": [
    "# Making Prediction SVM Gaussian"
   ]
  },
  {
   "cell_type": "code",
   "execution_count": 69,
   "id": "1d7198fe",
   "metadata": {},
   "outputs": [],
   "source": [
    "# Predict on train and test sets\n",
    "train_pred = svm_rbf.predict(X_train)\n",
    "test_pred = svm_rbf.predict(X_test)"
   ]
  },
  {
   "cell_type": "markdown",
   "id": "304782d7",
   "metadata": {},
   "source": [
    "## Model Evaluation SVM Gaussian"
   ]
  },
  {
   "cell_type": "code",
   "execution_count": 70,
   "id": "ae0bc2b8",
   "metadata": {},
   "outputs": [
    {
     "name": "stdout",
     "output_type": "stream",
     "text": [
      "Train Accuracy of SVM Gaussian  75.7328990228013\n",
      "Test Accuracy of SVM Gaussian 75.32467532467533\n"
     ]
    }
   ],
   "source": [
    "from sklearn.metrics import accuracy_score\n",
    "#SVM Linear Kernel\n",
    "print(\"Train Accuracy of SVM Gaussian \",accuracy_score(y_train,train_pred)*100)\n",
    "print(\"Test Accuracy of SVM Gaussian\",accuracy_score(y_test,test_pred)*100)\n",
    "\n"
   ]
  },
  {
   "cell_type": "markdown",
   "id": "da6e0754",
   "metadata": {},
   "source": [
    "## Confusion Matrix(SVM-Gaussian)"
   ]
  },
  {
   "cell_type": "code",
   "execution_count": 71,
   "id": "5c8f4e9e",
   "metadata": {},
   "outputs": [
    {
     "data": {
      "text/plain": [
       "<AxesSubplot:>"
      ]
     },
     "execution_count": 71,
     "metadata": {},
     "output_type": "execute_result"
    },
    {
     "data": {
      "image/png": "[encoded data removed]",
      "text/plain": [
       "<Figure size 640x480 with 2 Axes>"
      ]
     },
     "metadata": {},
     "output_type": "display_data"
    }
   ],
   "source": [
    "sns.heatmap(confusion_matrix(y_test,test_pred),annot=True,fmt=\"d\")"
   ]
  },
  {
   "cell_type": "markdown",
   "id": "3eba0609",
   "metadata": {},
   "source": [
    "##### PRECISION (PPV-Positive Predictive Value)"
   ]
  },
  {
   "cell_type": "code",
   "execution_count": 72,
   "id": "7da8fedb",
   "metadata": {},
   "outputs": [
    {
     "name": "stdout",
     "output_type": "stream",
     "text": [
      "Precision score of SVM_gaussian Train  72.14285714285714\n",
      "Precision score of SVM_gaussian Test  77.14285714285715\n"
     ]
    }
   ],
   "source": [
    "from sklearn.metrics import precision_score\n",
    "print(\"Precision score of SVM_gaussian Train \",precision_score(y_train,train_pred)*100)\n",
    "print(\"Precision score of SVM_gaussian Test \",precision_score(y_test,test_pred)*100)\n"
   ]
  },
  {
   "cell_type": "markdown",
   "id": "60f3f81d",
   "metadata": {},
   "source": [
    "## Recall"
   ]
  },
  {
   "cell_type": "code",
   "execution_count": 73,
   "id": "28821777",
   "metadata": {},
   "outputs": [
    {
     "name": "stdout",
     "output_type": "stream",
     "text": [
      "Recall score of SVM_gaussian Train  47.867298578199055\n",
      "Recall or Sensitivity_Score of SVM_gaussian Test :  47.368421052631575\n"
     ]
    }
   ],
   "source": [
    "from sklearn.metrics import recall_score\n",
    "print(\"Recall score of SVM_gaussian Train \",recall_score(y_train,train_pred)*100)\n",
    "print(\"Recall or Sensitivity_Score of SVM_gaussian Test : \",recall_score(y_test,test_pred)*100)\n"
   ]
  },
  {
   "cell_type": "markdown",
   "id": "dcc2d89f",
   "metadata": {},
   "source": [
    "### F1 Score"
   ]
  },
  {
   "cell_type": "code",
   "execution_count": 74,
   "id": "5cc36bd3",
   "metadata": {},
   "outputs": [
    {
     "name": "stdout",
     "output_type": "stream",
     "text": [
      "F1 score of SVM_linear Train  57.54985754985755\n",
      "F1 score Test  58.69565217391304\n"
     ]
    }
   ],
   "source": [
    "from sklearn.metrics import f1_score\n",
    "print(\"F1 score of SVM_linear Train \",f1_score(y_train,train_pred)*100)\n",
    "print(\"F1 score Test \",f1_score(y_test,test_pred)*100)\n"
   ]
  },
  {
   "cell_type": "markdown",
   "id": "66d1921f",
   "metadata": {},
   "source": [
    "# ReliefF to find best Features"
   ]
  },
  {
   "cell_type": "code",
   "execution_count": 75,
   "id": "4c094479",
   "metadata": {},
   "outputs": [
    {
     "name": "stdout",
     "output_type": "stream",
     "text": [
      "Index(['Pregnancies', 'Glucose', 'BloodPressure', 'SkinThickness', 'Insulin',\n",
      "       'BMI', 'DiabetesPedigreeFunction', 'Age'],\n",
      "      dtype='object')\n",
      "                  Attribute     Score  Rank\n",
      "0               Pregnancies  0.012646   4.0\n",
      "1                   Glucose  0.038040   1.0\n",
      "2             BloodPressure  0.007284   7.0\n",
      "3             SkinThickness  0.007517   6.0\n",
      "4                   Insulin  0.002222   8.0\n",
      "5                       BMI  0.019044   2.0\n",
      "6  DiabetesPedigreeFunction  0.008426   5.0\n",
      "7                       Age  0.012728   3.0\n"
     ]
    }
   ],
   "source": [
    "#!pip install skrebate\n",
    "from skrebate import ReliefF\n",
    "\n",
    "# Load dataset\n",
    "X = df.drop('Outcome', axis=1)\n",
    "y = df['Outcome']\n",
    "print(X.columns)\n",
    "# Initialize ReliefF feature selector\n",
    "fs = ReliefF(n_neighbors=20)\n",
    "\n",
    "# Fit the feature selector to the data\n",
    "fs.fit(X.values, y.values)\n",
    "\n",
    "# Get the feature importance scores and their respective attribute names\n",
    "scores = pd.DataFrame({'Attribute': X.columns, 'Score': fs.feature_importances_})\n",
    "\n",
    "# Add Rank column based on the sorted order of scores\n",
    "scores['Rank'] = scores['Score'].rank(method='min', ascending=False)\n",
    "\n",
    "# Print the scores\n",
    "print(scores)\n"
   ]
  },
  {
   "cell_type": "markdown",
   "id": "5f720d30",
   "metadata": {},
   "source": [
    "##### For Feature size_2(75%) for SVM(Gaussian)"
   ]
  },
  {
   "cell_type": "code",
   "execution_count": 76,
   "id": "859dbdf2",
   "metadata": {},
   "outputs": [
    {
     "name": "stdout",
     "output_type": "stream",
     "text": [
      "   Glucose   BMI  Age  Pregnancies  BloodPressure  DiabetesPedigreeFunction\n",
      "0    148.0  33.6   50            6           72.0                     0.627\n",
      "1     85.0  26.6   31            1           66.0                     0.351\n",
      "2    183.0  23.3   32            8           64.0                     0.672\n",
      "3     89.0  28.1   21            1           66.0                     0.167\n",
      "4    137.0  43.1   33            0           40.0                     2.288\n",
      "\n",
      "(768, 6)\n"
     ]
    }
   ],
   "source": [
    "# 6 Features to be selected are-->Glucose,BMI,Age,Pregnancies,DiabetesPrdigreeFunction,SkinThickness\n",
    "\n",
    "selected_columns_fs2=[\"Glucose\",\"BMI\",\"Age\",\"Pregnancies\",\"BloodPressure\",\"DiabetesPedigreeFunction\"]\n",
    "df_selected=df[selected_columns_fs2]\n",
    "print(df_selected.head())\n",
    "print()\n",
    "\n",
    "\n",
    "from sklearn.preprocessing import StandardScaler\n",
    "scaler=StandardScaler()\n",
    "scaler.fit(df_selected)\n",
    "\n",
    "SS1=scaler.transform(df_selected)\n",
    "print(SS1.shape)\n"
   ]
  },
  {
   "cell_type": "code",
   "execution_count": 77,
   "id": "6535e6e1",
   "metadata": {},
   "outputs": [],
   "source": [
    "from sklearn.model_selection import train_test_split\n",
    "X_train,X_test,y_train,y_test=train_test_split(SS1,y,test_size=0.2,random_state=7)"
   ]
  },
  {
   "cell_type": "code",
   "execution_count": 78,
   "id": "07940b25",
   "metadata": {},
   "outputs": [
    {
     "data": {
      "text/plain": [
       "SVC()"
      ]
     },
     "execution_count": 78,
     "metadata": {},
     "output_type": "execute_result"
    }
   ],
   "source": [
    "from sklearn.svm import SVC\n",
    "# create an instance of the SVM classifier with rbf kernel\n",
    "svm_rbf=SVC(kernel='rbf')\n",
    "# train the SVM classifier on the training data\n",
    "svm_rbf.fit(X_train, y_train)"
   ]
  },
  {
   "cell_type": "code",
   "execution_count": 79,
   "id": "f6ef9a9f",
   "metadata": {},
   "outputs": [],
   "source": [
    "# Predict on train and test sets\n",
    "train_pred = svm_rbf.predict(X_train)\n",
    "test_pred = svm_rbf.predict(X_test)"
   ]
  },
  {
   "cell_type": "code",
   "execution_count": 80,
   "id": "8f4ed39c",
   "metadata": {},
   "outputs": [
    {
     "name": "stdout",
     "output_type": "stream",
     "text": [
      "Train Accuracy of SVM Gaussian on Fs2 75%  81.10749185667753\n",
      "Test Accuracy of SVM Gaussian on Fs2 75%  80.51948051948052\n"
     ]
    }
   ],
   "source": [
    "#SVM Gaussian Kernel\n",
    "print(\"Train Accuracy of SVM Gaussian on Fs2 75% \",accuracy_score(y_train,train_pred)*100)\n",
    "print(\"Test Accuracy of SVM Gaussian on Fs2 75% \",accuracy_score(y_test,test_pred)*100)"
   ]
  },
  {
   "cell_type": "code",
   "execution_count": 81,
   "id": "4a71349d",
   "metadata": {},
   "outputs": [
    {
     "data": {
      "text/plain": [
       "<AxesSubplot:>"
      ]
     },
     "execution_count": 81,
     "metadata": {},
     "output_type": "execute_result"
    },
    {
     "data": {
      "image/png": "[encoded data removed]",
      "text/plain": [
       "<Figure size 640x480 with 2 Axes>"
      ]
     },
     "metadata": {},
     "output_type": "display_data"
    }
   ],
   "source": [
    "#Confusion Matrix of FS2=75%\n",
    "sns.heatmap(confusion_matrix(y_test,test_pred),annot=True,fmt=\"d\")"
   ]
  },
  {
   "cell_type": "markdown",
   "id": "a4b5860d",
   "metadata": {},
   "source": [
    "##### PRECISION (PPV-Positive Predictive Value)"
   ]
  },
  {
   "cell_type": "code",
   "execution_count": 82,
   "id": "9d18a3c0",
   "metadata": {},
   "outputs": [
    {
     "name": "stdout",
     "output_type": "stream",
     "text": [
      "Precision score of SVM_linear Train of Fs2=75%  79.5031055900621\n",
      "Precision score of SVM_linear Test of fs2=75%  77.55102040816327\n"
     ]
    }
   ],
   "source": [
    "from sklearn.metrics import precision_score\n",
    "print(\"Precision score of SVM_linear Train of Fs2=75% \",precision_score(y_train,train_pred)*100)\n",
    "print(\"Precision score of SVM_linear Test of fs2=75% \",precision_score(y_test,test_pred)*100)\n"
   ]
  },
  {
   "cell_type": "markdown",
   "id": "9d11bbaa",
   "metadata": {},
   "source": [
    "## Recall"
   ]
  },
  {
   "cell_type": "code",
   "execution_count": 83,
   "id": "e857000e",
   "metadata": {},
   "outputs": [
    {
     "name": "stdout",
     "output_type": "stream",
     "text": [
      "Recall score of SVM_linear Train of Fs2=75%  60.66350710900474\n",
      "Recall or Sensitivity_Score of SVM_linear Test of fs2=75%  :  66.66666666666666\n"
     ]
    }
   ],
   "source": [
    "from sklearn.metrics import recall_score\n",
    "print(\"Recall score of SVM_linear Train of Fs2=75% \",recall_score(y_train,train_pred)*100)\n",
    "print(\"Recall or Sensitivity_Score of SVM_linear Test of fs2=75%  : \",recall_score(y_test,test_pred)*100)"
   ]
  },
  {
   "cell_type": "markdown",
   "id": "fe0159b4",
   "metadata": {},
   "source": [
    "### F1 Score"
   ]
  },
  {
   "cell_type": "code",
   "execution_count": 84,
   "id": "394361d2",
   "metadata": {},
   "outputs": [
    {
     "name": "stdout",
     "output_type": "stream",
     "text": [
      "F1 score of SVM_Gaussian Train of Fs2=75%   68.81720430107528\n",
      "F1 score Test of SVM_Gaussian Fs2=75%  71.69811320754717\n"
     ]
    }
   ],
   "source": [
    "from sklearn.metrics import f1_score\n",
    "print(\"F1 score of SVM_Gaussian Train of Fs2=75%  \",f1_score(y_train,train_pred)*100)\n",
    "print(\"F1 score Test of SVM_Gaussian Fs2=75% \",f1_score(y_test,test_pred)*100)\n"
   ]
  },
  {
   "cell_type": "markdown",
   "id": "c3385ecb",
   "metadata": {},
   "source": [
    "##### For Feature size_3(50%) for SVM(Gaussian)"
   ]
  },
  {
   "cell_type": "code",
   "execution_count": 85,
   "id": "01f4a00a",
   "metadata": {},
   "outputs": [
    {
     "name": "stdout",
     "output_type": "stream",
     "text": [
      "   Glucose   BMI  Age  Pregnancies\n",
      "0    148.0  33.6   50            6\n",
      "1     85.0  26.6   31            1\n",
      "2    183.0  23.3   32            8\n",
      "3     89.0  28.1   21            1\n",
      "4    137.0  43.1   33            0\n",
      "\n",
      "(768, 4)\n"
     ]
    }
   ],
   "source": [
    "# 4 Features to be selected are-->Glucose,BMI,Age,Pregnancies\n",
    "\n",
    "selected_columns_fs3=[\"Glucose\",\"BMI\",\"Age\",\"Pregnancies\"]\n",
    "df_selected=df[selected_columns_fs3]\n",
    "print(df_selected.head())\n",
    "print()\n",
    "\n",
    "\n",
    "from sklearn.preprocessing import StandardScaler\n",
    "scaler=StandardScaler()\n",
    "scaler.fit(df_selected)\n",
    "\n",
    "SS1=scaler.transform(df_selected)\n",
    "print(SS1.shape)"
   ]
  },
  {
   "cell_type": "code",
   "execution_count": 86,
   "id": "eb580965",
   "metadata": {},
   "outputs": [],
   "source": [
    "from sklearn.model_selection import train_test_split\n",
    "X_train,X_test,y_train,y_test=train_test_split(SS1,y,test_size=0.2,random_state=7)"
   ]
  },
  {
   "cell_type": "code",
   "execution_count": 87,
   "id": "2c7c0489",
   "metadata": {},
   "outputs": [
    {
     "data": {
      "text/plain": [
       "SVC()"
      ]
     },
     "execution_count": 87,
     "metadata": {},
     "output_type": "execute_result"
    }
   ],
   "source": [
    "from sklearn.svm import SVC\n",
    "# create an instance of the SVM classifier with rbf kernel\n",
    "svm_rbf=SVC(kernel='rbf')\n",
    "# train the SVM classifier on the training data\n",
    "svm_rbf.fit(X_train, y_train)"
   ]
  },
  {
   "cell_type": "code",
   "execution_count": 88,
   "id": "a7f53e68",
   "metadata": {},
   "outputs": [],
   "source": [
    "# Predict on train and test sets\n",
    "train_pred = svm_rbf.predict(X_train)\n",
    "test_pred = svm_rbf.predict(X_test)"
   ]
  },
  {
   "cell_type": "code",
   "execution_count": 89,
   "id": "4506e17c",
   "metadata": {},
   "outputs": [
    {
     "name": "stdout",
     "output_type": "stream",
     "text": [
      "Train Accuracy of SVM Gaussian on Fs3 50%  78.50162866449512\n",
      "Test Accuracy of SVM Gaussian on Fs3 50% 79.22077922077922\n"
     ]
    }
   ],
   "source": [
    "#SVM Gaussian Kernel\n",
    "print(\"Train Accuracy of SVM Gaussian on Fs3 50% \",accuracy_score(y_train,train_pred)*100)\n",
    "print(\"Test Accuracy of SVM Gaussian on Fs3 50%\",accuracy_score(y_test,test_pred)*100)"
   ]
  },
  {
   "cell_type": "code",
   "execution_count": 90,
   "id": "53b2206f",
   "metadata": {},
   "outputs": [
    {
     "data": {
      "text/plain": [
       "<AxesSubplot:>"
      ]
     },
     "execution_count": 90,
     "metadata": {},
     "output_type": "execute_result"
    },
    {
     "data": {
      "image/png": "[encoded data removed]",
      "text/plain": [
       "<Figure size 640x480 with 2 Axes>"
      ]
     },
     "metadata": {},
     "output_type": "display_data"
    }
   ],
   "source": [
    "#Confusion Matrix of FS3=50%\n",
    "sns.heatmap(confusion_matrix(y_test,test_pred),annot=True,fmt=\"d\")"
   ]
  },
  {
   "cell_type": "markdown",
   "id": "457ea221",
   "metadata": {},
   "source": [
    "##### PRECISION (PPV-Positive Predictive Value)"
   ]
  },
  {
   "cell_type": "code",
   "execution_count": 91,
   "id": "4a4432f8",
   "metadata": {},
   "outputs": [
    {
     "name": "stdout",
     "output_type": "stream",
     "text": [
      "Precision score of SVM_gaussian Train of Fs3=50%  76.15894039735099\n",
      "Precision score of SVM_gaussian Test of fs3=50%  76.59574468085107\n"
     ]
    }
   ],
   "source": [
    "from sklearn.metrics import precision_score\n",
    "print(\"Precision score of SVM_gaussian Train of Fs3=50% \",precision_score(y_train,train_pred)*100)\n",
    "print(\"Precision score of SVM_gaussian Test of fs3=50% \",precision_score(y_test,test_pred)*100)"
   ]
  },
  {
   "cell_type": "markdown",
   "id": "71534323",
   "metadata": {},
   "source": [
    "## Recall"
   ]
  },
  {
   "cell_type": "code",
   "execution_count": 92,
   "id": "dbef274c",
   "metadata": {},
   "outputs": [
    {
     "name": "stdout",
     "output_type": "stream",
     "text": [
      "Recall score of SVM_linear Train of Fs3=50%  54.502369668246445\n",
      "Recall or Sensitivity_Score of SVM_linear Test of fs3=50%  :  63.1578947368421\n"
     ]
    }
   ],
   "source": [
    "from sklearn.metrics import recall_score\n",
    "print(\"Recall score of SVM_linear Train of Fs3=50% \",recall_score(y_train,train_pred)*100)\n",
    "print(\"Recall or Sensitivity_Score of SVM_linear Test of fs3=50%  : \",recall_score(y_test,test_pred)*100)"
   ]
  },
  {
   "cell_type": "markdown",
   "id": "b729d4f6",
   "metadata": {},
   "source": [
    "### F1 Score"
   ]
  },
  {
   "cell_type": "code",
   "execution_count": 93,
   "id": "7a57967b",
   "metadata": {},
   "outputs": [
    {
     "name": "stdout",
     "output_type": "stream",
     "text": [
      "F1 score of SVM_gaussian Train of Fs3=50%   63.53591160220995\n",
      "F1 score Test of Fs3=50%  69.23076923076923\n"
     ]
    }
   ],
   "source": [
    "from sklearn.metrics import f1_score\n",
    "print(\"F1 score of SVM_gaussian Train of Fs3=50%  \",f1_score(y_train,train_pred)*100)\n",
    "print(\"F1 score Test of Fs3=50% \",f1_score(y_test,test_pred)*100)"
   ]
  },
  {
   "cell_type": "markdown",
   "id": "f61b0c5c",
   "metadata": {},
   "source": [
    "### For Feature size_4(25%) for SVM(Linear)"
   ]
  },
  {
   "cell_type": "code",
   "execution_count": 94,
   "id": "4fed98e2",
   "metadata": {},
   "outputs": [
    {
     "name": "stdout",
     "output_type": "stream",
     "text": [
      "   Glucose   BMI\n",
      "0    148.0  33.6\n",
      "1     85.0  26.6\n",
      "2    183.0  23.3\n",
      "3     89.0  28.1\n",
      "4    137.0  43.1\n",
      "\n",
      "(768, 2)\n"
     ]
    }
   ],
   "source": [
    "# 2 Features to be selected are-->Glucose,BMI\n",
    "\n",
    "selected_columns_fs4=[\"Glucose\",\"BMI\"]\n",
    "df_selected=df[selected_columns_fs4]\n",
    "print(df_selected.head())\n",
    "print()\n",
    "\n",
    "\n",
    "from sklearn.preprocessing import StandardScaler\n",
    "scaler=StandardScaler()\n",
    "scaler.fit(df_selected)\n",
    "\n",
    "SS1=scaler.transform(df_selected)\n",
    "print(SS1.shape)"
   ]
  },
  {
   "cell_type": "code",
   "execution_count": 95,
   "id": "004dc350",
   "metadata": {},
   "outputs": [],
   "source": [
    "from sklearn.model_selection import train_test_split\n",
    "X_train,X_test,y_train,y_test=train_test_split(SS1,y,test_size=0.2,random_state=7)"
   ]
  },
  {
   "cell_type": "code",
   "execution_count": 96,
   "id": "f83d43ca",
   "metadata": {},
   "outputs": [
    {
     "data": {
      "text/plain": [
       "SVC()"
      ]
     },
     "execution_count": 96,
     "metadata": {},
     "output_type": "execute_result"
    }
   ],
   "source": [
    "from sklearn.svm import SVC\n",
    "# create an instance of the SVM classifier with rbf kernel\n",
    "svm_rbf=SVC(kernel='rbf')\n",
    "# train the SVM classifier on the training data\n",
    "svm_rbf.fit(X_train, y_train)"
   ]
  },
  {
   "cell_type": "code",
   "execution_count": 97,
   "id": "83f6e4f7",
   "metadata": {},
   "outputs": [],
   "source": [
    "# Predict on train and test sets\n",
    "train_pred = svm_rbf.predict(X_train)\n",
    "test_pred = svm_rbf.predict(X_test)"
   ]
  },
  {
   "cell_type": "code",
   "execution_count": 98,
   "id": "143becd0",
   "metadata": {},
   "outputs": [
    {
     "name": "stdout",
     "output_type": "stream",
     "text": [
      "Train Accuracy of SVM Gaussian on Fs4 25%  75.7328990228013\n",
      "Test Accuracy of SVM Gaussian on Fs4 25% 75.32467532467533\n"
     ]
    }
   ],
   "source": [
    "#SVM Gaussian Kernel\n",
    "print(\"Train Accuracy of SVM Gaussian on Fs4 25% \",accuracy_score(y_train,train_pred)*100)\n",
    "print(\"Test Accuracy of SVM Gaussian on Fs4 25%\",accuracy_score(y_test,test_pred)*100)"
   ]
  },
  {
   "cell_type": "code",
   "execution_count": 99,
   "id": "1b246d77",
   "metadata": {},
   "outputs": [
    {
     "data": {
      "text/plain": [
       "<AxesSubplot:>"
      ]
     },
     "execution_count": 99,
     "metadata": {},
     "output_type": "execute_result"
    },
    {
     "data": {
      "image/png": "[encoded data removed]",
      "text/plain": [
       "<Figure size 640x480 with 2 Axes>"
      ]
     },
     "metadata": {},
     "output_type": "display_data"
    }
   ],
   "source": [
    "#Confusion Matrix of FS4=25%\n",
    "sns.heatmap(confusion_matrix(y_test,test_pred),annot=True,fmt=\"d\")"
   ]
  },
  {
   "cell_type": "markdown",
   "id": "bfcb32a4",
   "metadata": {},
   "source": [
    "##### PRECISION (PPV-Positive Predictive Value)"
   ]
  },
  {
   "cell_type": "code",
   "execution_count": 103,
   "id": "e7ed5c0c",
   "metadata": {},
   "outputs": [
    {
     "name": "stdout",
     "output_type": "stream",
     "text": [
      "Precision score of SVM_gaussian Train of Fs4=25%  72.14285714285714\n",
      "Precision score of SVM_gaussian Test of fs4=25%  77.14285714285715\n"
     ]
    }
   ],
   "source": [
    "from sklearn.metrics import precision_score\n",
    "print(\"Precision score of SVM_gaussian Train of Fs4=25% \",precision_score(y_train,train_pred)*100)\n",
    "print(\"Precision score of SVM_gaussian Test of fs4=25% \",precision_score(y_test,test_pred)*100)"
   ]
  },
  {
   "cell_type": "markdown",
   "id": "6729afde",
   "metadata": {},
   "source": [
    "## Recall"
   ]
  },
  {
   "cell_type": "code",
   "execution_count": 101,
   "id": "d33a9721",
   "metadata": {},
   "outputs": [
    {
     "name": "stdout",
     "output_type": "stream",
     "text": [
      "Recall score of SVM_gaussian Train of Fs4=25%  47.867298578199055\n",
      "Recall or Sensitivity_Score of SVM_gaussian Test of fs4=25%  :  47.368421052631575\n"
     ]
    }
   ],
   "source": [
    "from sklearn.metrics import recall_score\n",
    "print(\"Recall score of SVM_gaussian Train of Fs4=25% \",recall_score(y_train,train_pred)*100)\n",
    "print(\"Recall or Sensitivity_Score of SVM_gaussian Test of fs4=25%  : \",recall_score(y_test,test_pred)*100)"
   ]
  },
  {
   "cell_type": "markdown",
   "id": "c6c94140",
   "metadata": {},
   "source": [
    "### F1 Score"
   ]
  },
  {
   "cell_type": "code",
   "execution_count": 102,
   "id": "6f2ed7ee",
   "metadata": {},
   "outputs": [
    {
     "name": "stdout",
     "output_type": "stream",
     "text": [
      "F1 score of SVM_linear Train of Fs4=25%   57.54985754985755\n",
      "F1 score Test of Fs4=25%  58.69565217391304\n"
     ]
    }
   ],
   "source": [
    "from sklearn.metrics import f1_score\n",
    "print(\"F1 score of SVM_linear Train of Fs4=25%  \",f1_score(y_train,train_pred)*100)\n",
    "print(\"F1 score Test of Fs4=25% \",f1_score(y_test,test_pred)*100)"
   ]
  },
  {
   "cell_type": "code",
   "execution_count": null,
   "id": "ce4993ad",
   "metadata": {},
   "outputs": [],
   "source": []
  },
  {
   "cell_type": "code",
   "execution_count": null,
   "id": "ffd99e64",
   "metadata": {},
   "outputs": [],
   "source": []
  },
  {
   "cell_type": "code",
   "execution_count": null,
   "id": "bae68543",
   "metadata": {},
   "outputs": [],
   "source": []
  }
 ],
 "metadata": {
  "kernelspec": {
   "display_name": "Python 3 (ipykernel)",
   "language": "python",
   "name": "python3"
  },
  "language_info": {
   "codemirror_mode": {
    "name": "ipython",
    "version": 3
   },
   "file_extension": ".py",
   "mimetype": "text/x-python",
   "name": "python",
   "nbconvert_exporter": "python",
   "pygments_lexer": "ipython3",
   "version": "3.9.13"
  }
 },
 "nbformat": 4,
 "nbformat_minor": 5
}
